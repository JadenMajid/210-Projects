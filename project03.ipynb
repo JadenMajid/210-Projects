{
 "cells": [
  {
   "cell_type": "markdown",
   "metadata": {
    "collapsed": false,
    "deletable": false,
    "editable": false,
    "nbgrader": {
     "grade": false,
     "grade_id": "0c2615",
     "locked": true,
     "schema_version": 3,
     "solution": false,
     "task": false
    }
   },
   "source": [
    "# PHYS 210 Mini-Project 03\n",
    "\n",
    "### Ferromagneticsm\n",
    "\n",
    "Due Wed, Nov 23, 2022 - 9am\n"
   ]
  },
  {
   "cell_type": "markdown",
   "metadata": {
    "collapsed": false,
    "deletable": false,
    "editable": false,
    "nbgrader": {
     "grade": false,
     "grade_id": "cell-5d2cd2b82e190c0d0",
     "locked": true,
     "schema_version": 3,
     "solution": false,
     "task": false
    }
   },
   "source": [
    "#### Project objective\n",
    "\n",
    "Explore the Curie temperature and the Ising model of Ferromagnetism\n",
    "\n",
    "#### Before getting started\n",
    "\n",
    "- Read the Mini-Project 03 background handout in the same folder as this notebook. It provides all the details.\n"
   ]
  },
  {
   "cell_type": "code",
   "execution_count": 1,
   "metadata": {
    "collapsed": false,
    "deletable": false,
    "nbgrader": {
     "cell_type": "code",
     "checksum": "04afa971d75dff9fcbbb6c16be2d635b",
     "grade": true,
     "grade_id": "cell-project3-1",
     "locked": false,
     "points": 0,
     "schema_version": 3,
     "solution": true,
     "task": false
    }
   },
   "outputs": [],
   "source": [
    "# Main code here - generate plots and animations in individual cells below.\n",
    "# YOUR CODE HERE\n",
    "import matplotlib.animation as animation\n",
    "import matplotlib.pyplot as plt\n",
    "import numpy as np\n",
    "from IPython.display import HTML\n",
    "import copy\n",
    "\n",
    "\"\"\"\n",
    "This project works by creating a State class that stores the relevant attributes of the system.\n",
    "The state object is time stepped with the timestep() function, and the main array can be accessed\n",
    "with state.arr\n",
    "The main optimization made was in the calculation of h(arr). Rather than recalculate H(arr) by iterating\n",
    "through the entire array every time, the contribution of each individual cell can be accessed with the Hat(i,j)\n",
    "function, and this function is used in the updateH() function within timestep() to update the H value every time\n",
    "a random flip is generated. \n",
    "\n",
    "New Code features: \n",
    "    Object orientation: The state object stores the state of the system, and can be manipulated with built-in methods\n",
    "\n",
    "Extension: \n",
    "    3d adaptation of isling model, interacting 3d plot of the end result.\n",
    "\"\"\"\n",
    "\n",
    "\n",
    "# Initial Variables\n",
    "# Size of array generated\n",
    "x = 50\n",
    "y = 50\n",
    "\n",
    "# Main state object definition\n",
    "class State:\n",
    "    \"\"\"\n",
    "    State is the object that stores the state of system. It has the following variables:\n",
    "    x: x length of the array, int\n",
    "    y: y lengths of the array, int\n",
    "    t: temperature of the state, float\n",
    "    arr: the state array, 2d numpy array of size(x, y)\n",
    "    h: the H value of system\n",
    "\n",
    "    State has the following methods:\n",
    "    State(x,y,t)/__init__(x,y,t): creates State object \n",
    "        all arguments optional\n",
    "\n",
    "    genarr(x, y): generates random array of size x, y\n",
    "        all arguments optional\n",
    "    \n",
    "    H(): Completely calculates H value and updates self.h from scratch and returns new h value \n",
    "\n",
    "    Hat(i, j): returns the contribution of position arr[i, j] to h sum.\n",
    "\n",
    "    updateH(i, j): updates H value to new array, assumes array has already been modified\n",
    "\n",
    "    M(): returns M(arr)\n",
    "\n",
    "    get_randM(n): returns M value of random array after n steps\n",
    "\n",
    "    timestep(): calculates new state of self after 1 timestep and updates self object\n",
    "\n",
    "    randomize(): generates new random values for arr and calculates new H(arr)\n",
    "    \"\"\"\n",
    "\n",
    "    def __init__(self, x=50, y=50, t=1) -> None:\n",
    "        \"\"\"\n",
    "        Constructor used when initializing State object, generates\n",
    "        new random array of size x, y and calculates an H value for self\n",
    "        \"\"\"\n",
    "        self.x = x\n",
    "        self.y = y\n",
    "        self.t = t\n",
    "        self.arr = self.genarr(x, y)\n",
    "        self.h = self.H()\n",
    "        pass\n",
    "\n",
    "    def genarr(self, x=50, y=50):\n",
    "        \"\"\"\n",
    "        Generates new random array of dimension (self.x,self.y)\n",
    "        \"\"\"\n",
    "        arr = np.random.rand(x, y)\n",
    "        for i in range(x):\n",
    "            for j in range(y):\n",
    "                if arr[i, j] < 0.5:\n",
    "                    arr[i, j] = -1\n",
    "                else:\n",
    "                    arr[i, j] = 1\n",
    "\n",
    "        return arr\n",
    "\n",
    "    def Hat(self, i, j):\n",
    "        \"\"\"\n",
    "        return H value of summation at i, j\n",
    "        \"\"\"\n",
    "        return (-1/2)*self.arr[i, j]*(self.arr[i-1, j] +\n",
    "                                      self.arr[i, j-1] +\n",
    "                                      self.arr[(i+1) % x, j] +\n",
    "                                      self.arr[i, (j+1) % y])\n",
    "\n",
    "    def updateH(self, i, j):\n",
    "        \"\"\"\n",
    "        Assumes array has already been flipped in timestep. Uses i and j\n",
    "        as the flipped location, and changes H by the updated value at that location\n",
    "        rather than recalculating H from scratch.\n",
    "        returns None\n",
    "        \"\"\"\n",
    "        # add new h(i,j) to self.h sum\n",
    "        self.h += self.Hat(i, j)\n",
    "        # flip to other arr\n",
    "        self.arr[i, j] *= -1\n",
    "        # get rid of old h(i,j) from sum\n",
    "        self.h -= self.Hat(i, j)\n",
    "        # flip back to new value\n",
    "        self.arr[i, j] *= -1\n",
    "\n",
    "    def H(self):\n",
    "        \"\"\"\n",
    "        completely calculates new value of H(self.arr), should only be used when\n",
    "        initially generating H in the constructor.\n",
    "        \n",
    "        returns h value calculated\n",
    "        \"\"\"\n",
    "        sum = 0\n",
    "        for i in range(x):\n",
    "            for j in range(y):\n",
    "                sum += self.Hat(i,j)\n",
    "        self.h = (-1/2)*sum\n",
    "        return self.h\n",
    "\n",
    "    def M(self):\n",
    "        \"\"\"\n",
    "        Sums over self.arr and divides by len of elements in array\n",
    "        returns float\n",
    "        \"\"\"\n",
    "        return np.sum(self.arr)/(self.x*self.y)\n",
    "\n",
    "    def get_randM(self, n):\n",
    "        \"\"\"\n",
    "        Makes a random value of M, with n timesteps. Loops over timestep() n times\n",
    "        updates self\n",
    "        returns float\n",
    "        \"\"\"\n",
    "\n",
    "        # Make self.arr a randomly generated array\n",
    "        self.arr = self.genarr()\n",
    "\n",
    "        # Main loop\n",
    "        for i in range(n):\n",
    "            self.timestep()\n",
    "\n",
    "        # Returns the M(self)\n",
    "        return copy.deepcopy(self.M())\n",
    "\n",
    "    def timestep(self):\n",
    "        \"\"\"\n",
    "        Steps time. initially generates random coordinates, then stores old value of h\n",
    "        then flips array to new possible state, and updates h. Compares the two and keeps\n",
    "        the new h and arr values if energy goes down, or if a probability value is higher than\n",
    "        a random float generated. \n",
    "        \n",
    "        Updates self\n",
    "        Returns None\n",
    "        \"\"\"\n",
    "        # Generating random electron index to flip\n",
    "        randx = np.random.randint(0, x)\n",
    "        randy = np.random.randint(0, y)\n",
    "\n",
    "        # Deep copy so that the value itself is stored in h1 rather than a reference\n",
    "        h1 = copy.deepcopy(self.h)\n",
    "\n",
    "        # Now flipping the spin at that state\n",
    "        self.arr[randx, randy] *= -1\n",
    "\n",
    "        # Updates H so now, self can be considered the new possible state\n",
    "        self.updateH(randx, randy)\n",
    "\n",
    "        # checking if h1 is bigger than new value of h\n",
    "        if h1 >= self.h:\n",
    "            # Keep new values\n",
    "            return\n",
    "\n",
    "        # Since h1 is not bigger, generate chance that new state is kept anyways\n",
    "        diceroll = np.exp(-(self.h-h1)/self.t)\n",
    "\n",
    "        if np.random.rand() < diceroll:\n",
    "            # Keep new values\n",
    "            return\n",
    "\n",
    "        # Keep old values, flip arr[rand,randy] back to the old value\n",
    "        self.arr[randx, randy] *= -1\n",
    "        # revert to previous H\n",
    "        self.updateH(randx, randy)\n",
    "\n",
    "        return\n",
    "\n",
    "    def randomize(self):\n",
    "        \"\"\"\n",
    "        Randomizes state of arr and calculates new H(arr)\n",
    "        updates self\n",
    "        returns None\n",
    "        \"\"\"\n",
    "        self.arr = self.genarr(self.x, self.y)\n",
    "        self.h = self.H()\n",
    "\n",
    "\n",
    "def makevideo(t, steps=600000, frames=2000, name=\"timelapse.webm\"):\n",
    "    \"\"\"\n",
    "    Makes video of a random array at temperature t, after steps steps,\n",
    "    making a frame every frames frames and names the video name.\n",
    "\n",
    "    returns none, stores video on disk at ./name\n",
    "    \"\"\"\n",
    "\n",
    "    fig = plt.figure()  # Create a new figure\n",
    "    ims = []  # List to store our grids of random numbers\n",
    "    state = State(x, y, t) # Generate state object\n",
    "\n",
    "    for i in range(steps): # Main loop\n",
    "        state.timestep() # step\n",
    "\n",
    "        if i % frames == 0: # Check if making frame or not\n",
    "            ims.append((plt.pcolormesh(state.arr), ))\n",
    "\n",
    "    imani = animation.ArtistAnimation(\n",
    "        fig,  # Not used here, but would be needed for resizing, etc\n",
    "        ims,  # The list to animate\n",
    "        interval=60,  # Time between frames in ms\n",
    "        repeat=False,  # Repeat not used here. Useful in later projects\n",
    "    )\n",
    "    # Save file\n",
    "    imani.save(name, extra_args=['-vcodec', 'libvpx'])\n",
    "    plt.close()  # Prevents a stray plot from appearing\n",
    "\n",
    "    del ims  # Release crucial Cocal memory related to these objects\n",
    "    del imani  #\n"
   ]
  },
  {
   "cell_type": "code",
   "execution_count": 2,
   "metadata": {},
   "outputs": [],
   "source": [
    "def maxM(t, n=5, steps = 600000):\n",
    "    \"\"\"\n",
    "    maxM takes 1 argument t, temperature and generates n\n",
    "    trials of the state array of steps number of timesteps\n",
    "\n",
    "    returns the maximum absolute value of M found\n",
    "    \"\"\"\n",
    "    # Making temporary array to store m values\n",
    "    marr = np.zeros(n)\n",
    "\n",
    "    # Generate n values of M(sigma)\n",
    "    for i in range(n):\n",
    "        marr[i] = State(t=t).get_randM(steps)\n",
    "\n",
    "    # Return max value\n",
    "    return max(np.abs(marr))"
   ]
  },
  {
   "cell_type": "code",
   "execution_count": 3,
   "metadata": {},
   "outputs": [
    {
     "name": "stdout",
     "output_type": "stream",
     "text": [
      "[1.0, 1.0, 0.8144, 0.096, 0.044, 0.0504, 0.02, 0.036, 0.0232]\n"
     ]
    },
    {
     "data": {
      "image/png": "[encoded data removed]",
      "text/plain": [
       "<Figure size 432x288 with 1 Axes>"
      ]
     },
     "metadata": {
      "needs_background": "light"
     },
     "output_type": "display_data"
    }
   ],
   "source": [
    "# Deliverable 1\n",
    "# ~ 11 minutes\n",
    "T = np.array([0.01, 0.1, 1, 2, 3, 4, 5, 10, 100])\n",
    "\n",
    "lst = list(map(maxM, T))\n",
    "print(lst)\n",
    "\n",
    "\n",
    "plt.plot(T, lst)\n",
    "plt.xscale(\"log\")"
   ]
  },
  {
   "cell_type": "code",
   "execution_count": 4,
   "metadata": {},
   "outputs": [],
   "source": [
    "# Zooming in on the phase transition\n",
    "# # ~20 ish minutes\n",
    "# T = np.linspace(.7, 2, 15)\n",
    "# lst = list(map(maxM, T))\n",
    "# print(lst)\n",
    "\n",
    "\n",
    "# plt.plot(T, lst)\n",
    "# plt.xscale(\"log\")"
   ]
  },
  {
   "cell_type": "code",
   "execution_count": 5,
   "metadata": {},
   "outputs": [],
   "source": [
    "# Deliverable 2\n",
    "# Generate video for t = 0.01\n",
    "makevideo(t=0.01, name=\"timelapse0.01.webm\")"
   ]
  },
  {
   "cell_type": "code",
   "execution_count": 6,
   "metadata": {},
   "outputs": [
    {
     "data": {
      "text/html": [
       "<video controls> <source src=\"timelapse0.01.webm\" type=\"video/webm\"> </video>"
      ],
      "text/plain": [
       "<IPython.core.display.HTML object>"
      ]
     },
     "execution_count": 6,
     "metadata": {},
     "output_type": "execute_result"
    }
   ],
   "source": [
    "# Play video from storage\n",
    "HTML('<video controls> <source src=\"timelapse0.01.webm\" type=\"video/webm\"> '\n",
    "     '</video>')"
   ]
  },
  {
   "cell_type": "code",
   "execution_count": 7,
   "metadata": {},
   "outputs": [],
   "source": [
    "# Generate video for t = 2.5\n",
    "makevideo(t=2.5, steps=600000, name=\"timelapse2.5.webm\")\n"
   ]
  },
  {
   "cell_type": "code",
   "execution_count": 8,
   "metadata": {},
   "outputs": [
    {
     "data": {
      "text/html": [
       "<video controls> <source src=\"timelapse2.5.webm\" type=\"video/webm\"> </video>"
      ],
      "text/plain": [
       "<IPython.core.display.HTML object>"
      ]
     },
     "execution_count": 8,
     "metadata": {},
     "output_type": "execute_result"
    }
   ],
   "source": [
    "# Play video from storage\n",
    "HTML('<video controls> <source src=\"timelapse2.5.webm\" type=\"video/webm\"> '\n",
    "     '</video>')"
   ]
  },
  {
   "cell_type": "code",
   "execution_count": 9,
   "metadata": {},
   "outputs": [],
   "source": [
    "# Make video for t = 100\n",
    "makevideo(t=100, steps=600000, name=\"timelapse100.webm\")\n"
   ]
  },
  {
   "cell_type": "code",
   "execution_count": 10,
   "metadata": {},
   "outputs": [
    {
     "data": {
      "text/html": [
       "<video controls> <source src=\"timelapse100.webm\" type=\"video/webm\"> </video>"
      ],
      "text/plain": [
       "<IPython.core.display.HTML object>"
      ]
     },
     "execution_count": 10,
     "metadata": {},
     "output_type": "execute_result"
    }
   ],
   "source": [
    "# Play video from disk\n",
    "HTML('<video controls> <source src=\"timelapse100.webm\" type=\"video/webm\"> '\n",
    "     '</video>')"
   ]
  },
  {
   "cell_type": "code",
   "execution_count": null,
   "metadata": {},
   "outputs": [],
   "source": []
  },
  {
   "cell_type": "markdown",
   "metadata": {
    "collapsed": false,
    "deletable": false,
    "editable": false,
    "nbgrader": {
     "grade": false,
     "grade_id": "87d438",
     "locked": true,
     "schema_version": 3,
     "solution": false,
     "task": false
    }
   },
   "source": [
    "Also note that you can use the Format button while in a code cell to automagically fix most pep8 errors (other than way too long print statements)\n",
    "\n",
    "![](project02-format.png)\n"
   ]
  },
  {
   "cell_type": "code",
   "execution_count": 11,
   "metadata": {
    "collapsed": false,
    "deletable": false,
    "nbgrader": {
     "cell_type": "code",
     "checksum": "0bfba331bdaa16e3e38c7f315efdff77",
     "grade": true,
     "grade_id": "cell-results",
     "locked": false,
     "points": 25,
     "schema_version": 3,
     "solution": true,
     "task": false
    }
   },
   "outputs": [],
   "source": [
    "# 3. Results (grader use only)\n"
   ]
  },
  {
   "cell_type": "code",
   "execution_count": 12,
   "metadata": {
    "collapsed": false,
    "deletable": false,
    "nbgrader": {
     "cell_type": "code",
     "checksum": "f39a7cf08454b2b3946e33e39f851429",
     "grade": true,
     "grade_id": "cell-readability",
     "locked": false,
     "points": 30,
     "schema_version": 3,
     "solution": true,
     "task": false
    }
   },
   "outputs": [],
   "source": [
    "# 4. Readability (grader use only)\n"
   ]
  },
  {
   "cell_type": "code",
   "execution_count": 13,
   "metadata": {
    "collapsed": false,
    "deletable": false,
    "nbgrader": {
     "cell_type": "code",
     "checksum": "5f88731ac323e35ec9219653b4ac085b",
     "grade": true,
     "grade_id": "cell-plots",
     "locked": false,
     "points": 15,
     "schema_version": 3,
     "solution": true,
     "task": false
    }
   },
   "outputs": [],
   "source": [
    "# 5. Plot (grader use only)\n"
   ]
  },
  {
   "cell_type": "code",
   "execution_count": 14,
   "metadata": {
    "collapsed": false,
    "deletable": false,
    "editable": false,
    "nbgrader": {
     "grade": true,
     "grade_id": "cell-optimization0",
     "locked": true,
     "points": 0,
     "schema_version": 3,
     "solution": false,
     "task": false
    }
   },
   "outputs": [
    {
     "ename": "Exception",
     "evalue": "File `'-.py'` not found.",
     "output_type": "error",
     "traceback": [
      "\u001b[0;31m---------------------------------------------------------------------------\u001b[0m",
      "\u001b[0;31mOSError\u001b[0m                                   Traceback (most recent call last)",
      "File \u001b[0;32m~/opt/anaconda3/lib/python3.9/site-packages/IPython/core/magics/execution.py:696\u001b[0m, in \u001b[0;36mExecutionMagics.run\u001b[0;34m(self, parameter_s, runner, file_finder)\u001b[0m\n\u001b[1;32m    695\u001b[0m     fpath \u001b[39m=\u001b[39m arg_lst[\u001b[39m0\u001b[39m]\n\u001b[0;32m--> 696\u001b[0m     filename \u001b[39m=\u001b[39m file_finder(fpath)\n\u001b[1;32m    697\u001b[0m \u001b[39mexcept\u001b[39;00m \u001b[39mIndexError\u001b[39;00m \u001b[39mas\u001b[39;00m e:\n",
      "File \u001b[0;32m~/opt/anaconda3/lib/python3.9/site-packages/IPython/utils/path.py:91\u001b[0m, in \u001b[0;36mget_py_filename\u001b[0;34m(name)\u001b[0m\n\u001b[1;32m     90\u001b[0m \u001b[39melse\u001b[39;00m:\n\u001b[0;32m---> 91\u001b[0m     \u001b[39mraise\u001b[39;00m \u001b[39mIOError\u001b[39;00m(\u001b[39m'\u001b[39m\u001b[39mFile `\u001b[39m\u001b[39m%r\u001b[39;00m\u001b[39m` not found.\u001b[39m\u001b[39m'\u001b[39m \u001b[39m%\u001b[39m name)\n",
      "\u001b[0;31mOSError\u001b[0m: File `'-.py'` not found.",
      "\nThe above exception was the direct cause of the following exception:\n",
      "\u001b[0;31mException\u001b[0m                                 Traceback (most recent call last)",
      "\u001b[1;32m/Users/jadenmajid/Documents/University/2nd Year/T2/PHYS 229/Experiment 2/210-Projects/project03.ipynb Cell 18\u001b[0m in \u001b[0;36m<cell line: 5>\u001b[0;34m()\u001b[0m\n\u001b[1;32m      <a href='vscode-notebook-cell:/Users/jadenmajid/Documents/University/2nd%20Year/T2/PHYS%20229/Experiment%202/210-Projects/project03.ipynb#X23sZmlsZQ%3D%3D?line=2'>3</a>\u001b[0m cells_to_time \u001b[39m=\u001b[39m []\n\u001b[1;32m      <a href='vscode-notebook-cell:/Users/jadenmajid/Documents/University/2nd%20Year/T2/PHYS%20229/Experiment%202/210-Projects/project03.ipynb#X23sZmlsZQ%3D%3D?line=3'>4</a>\u001b[0m stop_at \u001b[39m=\u001b[39m [\u001b[39m'\u001b[39m\u001b[39mcell-extension\u001b[39m\u001b[39m'\u001b[39m]\n\u001b[0;32m----> <a href='vscode-notebook-cell:/Users/jadenmajid/Documents/University/2nd%20Year/T2/PHYS%20229/Experiment%202/210-Projects/project03.ipynb#X23sZmlsZQ%3D%3D?line=4'>5</a>\u001b[0m get_ipython()\u001b[39m.\u001b[39;49mrun_line_magic(\u001b[39m'\u001b[39;49m\u001b[39mrun\u001b[39;49m\u001b[39m'\u001b[39;49m, \u001b[39m'\u001b[39;49m\u001b[39m- i time_cells2.py\u001b[39;49m\u001b[39m'\u001b[39;49m)\n",
      "File \u001b[0;32m~/opt/anaconda3/lib/python3.9/site-packages/IPython/core/interactiveshell.py:2294\u001b[0m, in \u001b[0;36mInteractiveShell.run_line_magic\u001b[0;34m(self, magic_name, line, _stack_depth)\u001b[0m\n\u001b[1;32m   2292\u001b[0m     kwargs[\u001b[39m'\u001b[39m\u001b[39mlocal_ns\u001b[39m\u001b[39m'\u001b[39m] \u001b[39m=\u001b[39m \u001b[39mself\u001b[39m\u001b[39m.\u001b[39mget_local_scope(stack_depth)\n\u001b[1;32m   2293\u001b[0m \u001b[39mwith\u001b[39;00m \u001b[39mself\u001b[39m\u001b[39m.\u001b[39mbuiltin_trap:\n\u001b[0;32m-> 2294\u001b[0m     result \u001b[39m=\u001b[39m fn(\u001b[39m*\u001b[39;49margs, \u001b[39m*\u001b[39;49m\u001b[39m*\u001b[39;49mkwargs)\n\u001b[1;32m   2295\u001b[0m \u001b[39mreturn\u001b[39;00m result\n",
      "File \u001b[0;32m~/opt/anaconda3/lib/python3.9/site-packages/IPython/core/magics/execution.py:707\u001b[0m, in \u001b[0;36mExecutionMagics.run\u001b[0;34m(self, parameter_s, runner, file_finder)\u001b[0m\n\u001b[1;32m    705\u001b[0m     \u001b[39mif\u001b[39;00m os\u001b[39m.\u001b[39mname \u001b[39m==\u001b[39m \u001b[39m'\u001b[39m\u001b[39mnt\u001b[39m\u001b[39m'\u001b[39m \u001b[39mand\u001b[39;00m re\u001b[39m.\u001b[39mmatch(\u001b[39mr\u001b[39m\u001b[39m\"\u001b[39m\u001b[39m^\u001b[39m\u001b[39m'\u001b[39m\u001b[39m.*\u001b[39m\u001b[39m'\u001b[39m\u001b[39m$\u001b[39m\u001b[39m\"\u001b[39m,fpath):\n\u001b[1;32m    706\u001b[0m         warn(\u001b[39m'\u001b[39m\u001b[39mFor Windows, use double quotes to wrap a filename: \u001b[39m\u001b[39m%r\u001b[39;00m\u001b[39mun \u001b[39m\u001b[39m\"\u001b[39m\u001b[39mmypath\u001b[39m\u001b[39m\\\\\u001b[39;00m\u001b[39mmyfile.py\u001b[39m\u001b[39m\"\u001b[39m\u001b[39m'\u001b[39m)\n\u001b[0;32m--> 707\u001b[0m     \u001b[39mraise\u001b[39;00m \u001b[39mException\u001b[39;00m(msg) \u001b[39mfrom\u001b[39;00m \u001b[39me\u001b[39;00m\n\u001b[1;32m    708\u001b[0m \u001b[39mexcept\u001b[39;00m \u001b[39mTypeError\u001b[39;00m:\n\u001b[1;32m    709\u001b[0m     \u001b[39mif\u001b[39;00m fpath \u001b[39min\u001b[39;00m sys\u001b[39m.\u001b[39mmeta_path:\n",
      "\u001b[0;31mException\u001b[0m: File `'-.py'` not found."
     ]
    }
   ],
   "source": [
    "# Check execution time\n",
    "nb_name = \"project03.ipynb\"\n",
    "cells_to_time = []\n",
    "stop_at = ['cell-extension']\n",
    "%run - i time_cells2.py\n"
   ]
  },
  {
   "cell_type": "code",
   "execution_count": null,
   "metadata": {
    "collapsed": false,
    "deletable": false,
    "nbgrader": {
     "cell_type": "code",
     "checksum": "a8a3076187fd64d1224573d70288d2a0",
     "grade": true,
     "grade_id": "cell-optimization1",
     "locked": false,
     "points": 5,
     "schema_version": 3,
     "solution": true,
     "task": false
    }
   },
   "outputs": [],
   "source": [
    "# 5. Code optimization/timing (grader use only)\n"
   ]
  },
  {
   "cell_type": "code",
   "execution_count": null,
   "metadata": {
    "collapsed": false,
    "deletable": false,
    "nbgrader": {
     "cell_type": "code",
     "checksum": "f3bfbc592099991ad62d237a378affe1",
     "grade": true,
     "grade_id": "cell-new_features",
     "locked": false,
     "points": 2,
     "schema_version": 3,
     "solution": true,
     "task": false
    }
   },
   "outputs": [],
   "source": [
    "# B2. New Functionality/Language features (grader use only)\n"
   ]
  }
 ],
 "metadata": {
  "celltoolbar": "Create Assignment",
  "kernelspec": {
   "display_name": "Python 3.9.6 64-bit",
   "language": "python",
   "name": "python3"
  },
  "language_info": {
   "codemirror_mode": {
    "name": "ipython",
    "version": 3
   },
   "file_extension": ".py",
   "mimetype": "text/x-python",
   "name": "python",
   "nbconvert_exporter": "python",
   "pygments_lexer": "ipython3",
   "version": "3.9.12"
  },
  "nbgrader": {
   "__altered": false,
   "__hash": -404592343,
   "_root": {
    "entries": [
     [
      "__altered",
      false
     ],
     [
      "__hash",
      -679907196
     ],
     [
      "_root",
      {
       "entries": [
        [
         "__altered",
         false
        ],
        [
         "__hash",
         -651869538
        ],
        [
         "_root",
         {
          "entries": [
           [
            "size",
            6
           ],
           [
            "_root",
            {
             "entries": [
              [
               "size",
               5
              ],
              [
               "_root",
               {
                "entries": [
                 [
                  "__altered",
                  false
                 ],
                 [
                  "__hash",
                  -1072767477
                 ],
                 [
                  "_root",
                  {
                   "entries": [
                    [
                     "size",
                     6
                    ],
                    [
                     "_root",
                     {
                      "entries": [
                       [
                        "size",
                        1
                       ],
                       [
                        "_root",
                        {
                         "entries": [
                          [
                           "cocalc_minimal_stubs",
                           false
                          ]
                         ],
                         "ownerID": {}
                        }
                       ],
                       [
                        "__ownerID",
                        null
                       ],
                       [
                        "__hash",
                        -335098374
                       ],
                       [
                        "__altered",
                        false
                       ],
                       [
                        "cocalc_minimal_stubs",
                        false
                       ]
                      ],
                      "ownerID": {}
                     }
                    ],
                    [
                     "__hash",
                     -1062824929
                    ],
                    [
                     "__altered",
                     false
                    ],
                    [
                     "cocalc_minimal_stubs",
                     false
                    ]
                   ],
                   "ownerID": {}
                  }
                 ],
                 [
                  "cocalc_minimal_stubs",
                  false
                 ],
                 [
                  "size",
                  5
                 ]
                ],
                "ownerID": {}
               }
              ],
              [
               "__ownerID",
               null
              ],
              [
               "__hash",
               250283375
              ],
              [
               "__altered",
               false
              ],
              [
               "cocalc_minimal_stubs",
               false
              ]
             ],
             "ownerID": {}
            }
           ],
           [
            "__ownerID",
            null
           ],
           [
            "__hash",
            -24045107
           ],
           [
            "__altered",
            false
           ],
           [
            "cocalc_minimal_stubs",
            false
           ]
          ],
          "ownerID": {}
         }
        ],
        [
         "cocalc_minimal_stubs",
         false
        ],
        [
         "size",
         6
        ]
       ],
       "ownerID": {}
      }
     ],
     [
      "cocalc_minimal_stubs",
      false
     ],
     [
      "size",
      5
     ]
    ],
    "ownerID": {}
   },
   "cocalc_minimal_stubs": false,
   "size": 5
  },
  "vscode": {
   "interpreter": {
    "hash": "aee8b7b246df8f9039afb4144a1f6fd8d2ca17a180786b69acc140d282b71a49"
   }
  }
 },
 "nbformat": 4,
 "nbformat_minor": 4
}
