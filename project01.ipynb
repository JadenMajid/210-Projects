{
 "cells": [
  {
   "cell_type": "markdown",
   "metadata": {
    "collapsed": false,
    "deletable": false,
    "editable": false,
    "nbgrader": {
     "grade": false,
     "grade_id": "0c2615",
     "locked": true,
     "schema_version": 3,
     "solution": false,
     "task": false
    }
   },
   "source": [
    "# PHYS 210 Mini-Project 01\n",
    "### Ordinary Differential Equations - Projectile motion in 2D\n",
    "Due Wed, Nov 2, 2022 - 9am"
   ]
  },
  {
   "cell_type": "markdown",
   "metadata": {
    "collapsed": false,
    "deletable": false,
    "editable": false,
    "nbgrader": {
     "grade": false,
     "grade_id": "cell-5d2cd2b82e190c0d0",
     "locked": true,
     "schema_version": 3,
     "solution": false,
     "task": false
    }
   },
   "source": [
    "#### Before getting started\n",
    "\n",
    "1. Read the Mini-Project 01 background handout on CoCalc in the folder `Pre-class_Readings/Project_01-background/`\n",
    "1. Read the grading rubric document in the \"Mini-project 01\" module on Canvas\n",
    "\n",
    "#### The problem\n",
    "\n",
    "Consider a soccer ball kicked across level ground at an an initial angle $\\theta$. It lands again some distance $d$ away from the launch site. The equation of motion of the soccer ball, with turbulent air drag is: \n",
    "\n",
    "$$ m \\frac{d\\vec{v}}{dt} = -m g \\hat{j} -b v \\vec{v},$$\n",
    "\n",
    "where $\\vec{v}(t) = (v_x(t), v_y(t))$ is the projectile velocity at time $t$. The constant $b$ characterizes the atmospheric friction, treating the soccer ball as a smooth spherical object. We will integrate the equation of motion numerically in this project and compare the motion to our regular analytic expressions for projectile motion,\n",
    "\n",
    "$$x(t) = v_0 t \\cos\\theta,$$\n",
    "$$y(t) = v_0 t \\sin\\theta - \\frac{1}{2} g t^2.$$\n",
    "\n",
    "#### Objectives\n",
    "\n",
    "You will implement a numerical solution of the differential equation with `solve_ivp()` and compare this trajectory, with drag, to the one you find to the analytic solution above, without drag. When calling `solve_ivp()` use `method='LSODA'` as it is often better behaved than the default method. You do not need to use the differential equation solver for the no drag analytic solution. You can simply calculate the x and y positions directly using the equations above\n",
    "\n",
    "Use the following parameters and initial conditions:\n",
    "- $b$ = 0.006 kg/m\n",
    "- $g$ = 9.81 m/s$^2$\n",
    "- $m$ = 0.45 kg\n",
    "- $v_0$ = 18 m/s\n",
    "- $\\theta$ = 40 degrees above the horizonal\n",
    "\n",
    "The questions you need to consider are:\n",
    "- What is the distance $d$ to impact?\n",
    "- What is the maximum height, $h_{max}$, reached?\n",
    "- What is the time of flight, $t_{tof}$?\n",
    "- What is the velocity (which is a vector), $\\vec{v}_I$ at the impact point?\n",
    "- By how much distance does drag reduce the range?\n",
    "\n",
    "Your code should determine answers to these questions from the data returned by `solve_ivp()` (and your analytic solution for the final question), and print them to the screen.\n",
    "Your code should continue to operate well if parameters like $c,$ $m$, $v_0$, and $\\theta$ are changed - it should choose a sensible range of times to integrate over based on the parameters used.\n",
    "\n",
    "Make a plot that shows the trajectory in the $x, y$ plane. The numerical solution should be shown as a series of about 20 points that are evenly spaced in time (so that the distance between them communicates the speed of the projectile) that are not connected by lines. On the same plot, show the analytical solution as a solid line (without points).\n",
    "\n",
    "#### Further details\n",
    "\n",
    "Note that the grading for the projects will be very, very different from the grading of the exercises. **Read the project marking rubric document before you start.** Feel free to add additional cells below to split your code up if you wish to."
   ]
  },
  {
   "cell_type": "code",
   "execution_count": 1,
   "metadata": {
    "collapsed": false
   },
   "outputs": [],
   "source": [
    "# Initial declarations and imports\n",
    "import matplotlib.pyplot as plt\n",
    "import numpy as np\n",
    "from scipy import integrate\n",
    "\n",
    "# Constants given\n",
    "b = 0.006\n",
    "g = 9.81\n",
    "m = 0.45\n",
    "v_0 = 18\n",
    "theta = np.radians(40)\n",
    "vx0 = v_0 * np.cos(theta)\n",
    "vy0 = v_0 * np.sin(theta)\n",
    "\n",
    "t0 = 0.0  # initial time\n",
    "tmax = 2.4  # maximum time\n",
    "n = 10  # half of time steps\n",
    "steps = 2 * n  # number of time steps\n",
    "dt = (tmax - t0) / steps  # size of the time step\n",
    "# initconds[x,y,dx,dy]\n",
    "y0_arr = [0, 0, vx0, vy0]"
   ]
  },
  {
   "cell_type": "code",
   "execution_count": 2,
   "metadata": {
    "collapsed": false,
    "deletable": false,
    "nbgrader": {
     "cell_type": "code",
     "checksum": "8f818a8c30ce2bcbe8e1b107e3a97f44",
     "grade": true,
     "grade_id": "cell-project1-main",
     "locked": false,
     "points": 0,
     "schema_version": 3,
     "solution": true,
     "task": false
    }
   },
   "outputs": [
    {
     "ename": "NameError",
     "evalue": "name 'true' is not defined",
     "output_type": "error",
     "traceback": [
      "\u001b[0;31m---------------------------------------------------------------------------\u001b[0m",
      "\u001b[0;31mNameError\u001b[0m                                 Traceback (most recent call last)",
      "\u001b[1;32m/Users/jadenmajid/Documents/University/2nd Year/T2/PHYS 229/Experiment 2/210-Projects/project01.ipynb Cell 4\u001b[0m in \u001b[0;36m<cell line: 23>\u001b[0;34m()\u001b[0m\n\u001b[1;32m     <a href='vscode-notebook-cell:/Users/jadenmajid/Documents/University/2nd%20Year/T2/PHYS%20229/Experiment%202/210-Projects/project01.ipynb#W3sZmlsZQ%3D%3D?line=20'>21</a>\u001b[0m \u001b[39mdef\u001b[39;00m \u001b[39mhit_ground\u001b[39m(t,y):\n\u001b[1;32m     <a href='vscode-notebook-cell:/Users/jadenmajid/Documents/University/2nd%20Year/T2/PHYS%20229/Experiment%202/210-Projects/project01.ipynb#W3sZmlsZQ%3D%3D?line=21'>22</a>\u001b[0m     \u001b[39mreturn\u001b[39;00m y[\u001b[39m0\u001b[39m]\n\u001b[0;32m---> <a href='vscode-notebook-cell:/Users/jadenmajid/Documents/University/2nd%20Year/T2/PHYS%20229/Experiment%202/210-Projects/project01.ipynb#W3sZmlsZQ%3D%3D?line=22'>23</a>\u001b[0m hit_ground\u001b[39m.\u001b[39mterminal \u001b[39m=\u001b[39m true\n\u001b[1;32m     <a href='vscode-notebook-cell:/Users/jadenmajid/Documents/University/2nd%20Year/T2/PHYS%20229/Experiment%202/210-Projects/project01.ipynb#W3sZmlsZQ%3D%3D?line=23'>24</a>\u001b[0m hit_ground\u001b[39m.\u001b[39mdirection \u001b[39m=\u001b[39m \u001b[39m-\u001b[39m\u001b[39m1\u001b[39m\n\u001b[1;32m     <a href='vscode-notebook-cell:/Users/jadenmajid/Documents/University/2nd%20Year/T2/PHYS%20229/Experiment%202/210-Projects/project01.ipynb#W3sZmlsZQ%3D%3D?line=25'>26</a>\u001b[0m t_arr \u001b[39m=\u001b[39m np\u001b[39m.\u001b[39mlinspace(t0, tmax, steps \u001b[39m+\u001b[39m \u001b[39m1\u001b[39m)  \u001b[39m# 1d time array\u001b[39;00m\n",
      "\u001b[0;31mNameError\u001b[0m: name 'true' is not defined"
     ]
    }
   ],
   "source": [
    "# Main solution in this cell\n",
    "def dydt_arr(t, y_arr):\n",
    "    \"\"\"\n",
    "    Returns the changes in y_arr values with numerical\n",
    "    derivatives for the drag based differential equation.\n",
    "    t is required for integrate function, and\n",
    "    y_arr contains 4 values: x position, y position,\n",
    "    x velocity and y velocity. Outputs change in respective\n",
    "    values by their derivatives,\n",
    "    ie: f(t+dt) = f(t)+f'(t)/dt\n",
    "    \"\"\"\n",
    "    vx = y_arr[2]  # x Velocity\n",
    "    vy = y_arr[3]  # y Velocity\n",
    "\n",
    "    speed = np.sqrt(vx ** 2 + vy ** 2)  # Speed\n",
    "    dvx = -b * vx * speed / m  # Derivative of x velocity\n",
    "    dvy = -g - b * vy * speed / m  # Derivative of y velocity\n",
    "\n",
    "    return np.array([vx, vy, dvx, dvy])\n",
    "\n",
    "def hit_ground(t,y):\n",
    "    return y[0]\n",
    "hit_ground.terminal = true\n",
    "hit_ground.direction = -1\n",
    "\n",
    "t_arr = np.linspace(t0, tmax, steps + 1)  # 1d time array\n",
    "\n",
    "# Solve the differential equation:\n",
    "sol = integrate.solve_ivp(dydt_arr, (t_arr[0], t_arr[-1]),\n",
    "                          y0_arr,\n",
    "                          t_eval=t_arr,\n",
    "                          method='LSODA',\n",
    "                          events = hit_ground)\n",
    "\n",
    "# Analytical solution without drag component\n",
    "analytical_x = vx0 * t_arr\n",
    "analytical_y = t_arr * (vy0 - 1 / 2 * g * t_arr)"
   ]
  },
  {
   "cell_type": "code",
   "execution_count": null,
   "metadata": {
    "collapsed": false
   },
   "outputs": [],
   "source": [
    "t_sol = sol['t']  # getting time values\n",
    "y_sol = sol['y']  # getting y0_arr values for each time step"
   ]
  },
  {
   "cell_type": "code",
   "execution_count": null,
   "metadata": {
    "collapsed": false,
    "pycharm": {
     "name": "#%%\n"
    }
   },
   "outputs": [
    {
     "data": {
      "image/png": "[encoded data removed]",
      "text/plain": [
       "<Figure size 640x480 with 1 Axes>"
      ]
     },
     "metadata": {},
     "output_type": "display_data"
    }
   ],
   "source": [
    "# Plotting numerical solution\n",
    "plt.subplot(211)\n",
    "plt.plot(y_sol[0, :],\n",
    "         y_sol[1, :],\n",
    "         \"ro\",\n",
    "         linewidth=0,\n",
    "         label=\"Numerical Solution\")\n",
    "plt.xlabel('x, m')\n",
    "plt.ylabel('y, m')\n",
    "plt.ylim([0, 8])\n",
    "\n",
    "# Plotting analytical solution\n",
    "plt.title(\"Numerical solution and analytical kinematic solution\")\n",
    "plt.plot(analytical_x, analytical_y, label=\"Analytical Solution\")\n",
    "plt.legend()\n",
    "\n",
    "plt.tight_layout()\n",
    "\n",
    "plt.show()"
   ]
  },
  {
   "cell_type": "code",
   "execution_count": null,
   "metadata": {
    "collapsed": false
   },
   "outputs": [
    {
     "name": "stdout",
     "output_type": "stream",
     "text": [
      "Numerical solution distance: 24.64m\n",
      "Max height: 5.88m\n",
      "Flight Time: 2.16 s\n",
      "Impact Velocity: 13.711m/s at -46.07 deg\n",
      "Distance Diff: 6.80m\n"
     ]
    }
   ],
   "source": [
    "# Finding final value before y < 0\n",
    "gtz = (y_sol[1, :] >= 0)  # filtering array for vals >=0\n",
    "y_min_index = np.argmax(y_sol[0, gtz])\n",
    "dist = y_sol[0, y_min_index]\n",
    "\n",
    "flight_time = t_arr[y_min_index]\n",
    "\n",
    "# Finding final velocity vector\n",
    "final_xv = y_sol[2, y_min_index]\n",
    "final_yv = y_sol[3, y_min_index]\n",
    "final_speed = np.sqrt(final_xv ** 2 + final_yv ** 2)\n",
    "final_angle = np.rad2deg(np.arctan(final_yv / final_xv))\n",
    "\n",
    "gtz = (analytical_y >= 0)  # Filtering array for vals >=0\n",
    "analytical_ymin = analytical_x[np.argmax(analytical_x[gtz])]\n",
    "\n",
    "max_num_height = max(y_sol[1, :])  # Maximum numerical height\n",
    "\n",
    "# Printing values found above\n",
    "print(\"Numerical solution distance: {0:.2f}m\".format(\n",
    "    dist))\n",
    "print(\"Max height: {0:.2f}m\".format(\n",
    "    max_num_height))\n",
    "print(\"Flight Time: {0:.2f} s\".format(\n",
    "    flight_time))\n",
    "print(\"Impact Velocity: {0:.3f}m/s at {1:.2f} deg\".format(\n",
    "    final_speed, final_angle))\n",
    "print(\"Distance Diff: {0:.2f}m\".format(\n",
    "    analytical_ymin - dist))"
   ]
  },
  {
   "cell_type": "markdown",
   "metadata": {
    "collapsed": false,
    "deletable": false,
    "editable": false,
    "nbgrader": {
     "grade": false,
     "grade_id": "cf5dfa",
     "locked": true,
     "schema_version": 3,
     "solution": false,
     "task": false
    }
   },
   "source": [
    "# Acknowledgements\n",
    "\n",
    "In the cell below, please describe the role of **anyone other than yourself** who contributed to the work shown in this notebook.\n",
    "\n",
    "Its ok to get help from us and classmates! Please get in the habit of acknowledging such contributions.\n",
    "\n",
    "If you want to refer to a classmate, please use only their cocalc email-id and not their name - or you could just say something like: \"a classmate gave me the idea to use xxx feature to solve yyy problem.\"\n"
   ]
  },
  {
   "cell_type": "markdown",
   "metadata": {
    "collapsed": false
   },
   "source": [
    "_Acknowledgements here:_\n",
    "\n",
    "A classmate gave me the idea to plot maximum distance as a function of angle,\n",
    " but I came up with the maximum height myself"
   ]
  },
  {
   "cell_type": "markdown",
   "metadata": {
    "collapsed": false,
    "deletable": false,
    "editable": false,
    "nbgrader": {
     "grade": false,
     "grade_id": "5a51c40",
     "locked": true,
     "schema_version": 3,
     "solution": false,
     "task": false
    }
   },
   "source": [
    "# Extension Code and Description\n",
    "All solution code for the main project question should appear in the cell \"cell-project1-main\" above. Project extensions go in the cell \"cell-extension\" immediately below and the descriptions of your extension go in the cell below that."
   ]
  },
  {
   "cell_type": "code",
   "execution_count": null,
   "metadata": {
    "collapsed": false,
    "deletable": false,
    "nbgrader": {
     "cell_type": "code",
     "checksum": "42ecea395658c31501a38456ce9be2c1",
     "grade": true,
     "grade_id": "cell-extension",
     "locked": false,
     "points": 3,
     "schema_version": 3,
     "solution": true,
     "task": false
    }
   },
   "outputs": [
    {
     "name": "stdout",
     "output_type": "stream",
     "text": [
      "maximum height possible changing theta: 13.666 m\n",
      "corresponding angle: 90.0 degrees above horizon\n",
      "maximum distance possible changing theta: 23.951 m\n",
      "corresponding angle: 45.0 degrees above horizon\n"
     ]
    },
    {
     "data": {
      "text/plain": [
       "<function matplotlib.pyplot.show(close=None, block=None)>"
      ]
     },
     "execution_count": 420,
     "metadata": {},
     "output_type": "execute_result"
    },
    {
     "data": {
      "image/png": "[encoded data removed]",
      "text/plain": [
       "<Figure size 640x480 with 2 Axes>"
      ]
     },
     "metadata": {},
     "output_type": "display_data"
    }
   ],
   "source": [
    "theta = np.linspace(0, np.pi, steps + 1)\n",
    "max_heights = []\n",
    "max_dists = []\n",
    "\n",
    "for angle in theta:\n",
    "    # Changing velocity components wrt theta\n",
    "    vx = v_0 * np.cos(angle)\n",
    "    vy = v_0 * np.sin(angle)\n",
    "    y0_arr[2] = vx\n",
    "    y0_arr[3] = vy\n",
    "\n",
    "    # Solve the differential equation:\n",
    "    sol = integrate.solve_ivp(dydt_arr,\n",
    "                              (t_arr[0], t_arr[-1]),\n",
    "                              y0_arr,\n",
    "                              t_eval=t_arr,\n",
    "                              method='LSODA')\n",
    "    y_sol = sol['y']\n",
    "\n",
    "    max_height = max(y_sol[1, :])\n",
    "    max_heights.append(max_height)\n",
    "\n",
    "    gtz = (y_sol[1, :] >= 0)\n",
    "    y_min_index = np.argmax(y_sol[0, gtz])  # Index of final point\n",
    "    maximum_distance = y_sol[0, y_min_index]\n",
    "    max_dists.append(maximum_distance)\n",
    "\n",
    "max_height_angle = np.rad2deg(theta[np.argmax(max_heights)])\n",
    "max_dist_angle = np.rad2deg(theta[np.argmax(max_dists)])\n",
    "\n",
    "# Printing values found\n",
    "print(\"maximum height possible changing theta: {0:.3f} m\".format(\n",
    "    max(max_heights)))\n",
    "print(\"corresponding angle: {0:.1f} degrees above horizon\".format(\n",
    "    max_height_angle))\n",
    "print(\"maximum distance possible changing theta: {0:.3f} m\".format(\n",
    "    max(max_dists)))\n",
    "print(\"corresponding angle: {0:.1f} degrees above horizon\".format(\n",
    "    max_dist_angle))\n",
    "\n",
    "# Plotting height vs angle\n",
    "plt.subplot(2, 1, 1)\n",
    "plt.title(\"Maximum height vs angle of launch\")\n",
    "plt.xlabel('Angle wrt horizon, deg')\n",
    "plt.ylabel('Maximum height, m')\n",
    "plt.plot(np.rad2deg(theta), max_heights)\n",
    "\n",
    "# Plotting distance vs angle\n",
    "plt.subplot(2, 1, 2)\n",
    "plt.title(\"Maximum x distance vs angle of launch\")\n",
    "plt.xlabel('Angle wrt horizon, deg')\n",
    "plt.ylabel('Distance travelled, m')\n",
    "plt.plot(np.rad2deg(theta), max_dists)\n",
    "plt.xlim([0, 90])\n",
    "plt.ylim([0, 27])\n",
    "\n",
    "plt.tight_layout()\n",
    "plt.show\n"
   ]
  },
  {
   "cell_type": "markdown",
   "metadata": {
    "collapsed": false
   },
   "source": [
    "_In this cell, please describe any new language features or project extension you have implemented:_\n",
    "\n",
    "\n"
   ]
  },
  {
   "cell_type": "markdown",
   "metadata": {
    "collapsed": false,
    "deletable": false,
    "editable": false,
    "nbgrader": {
     "grade": false,
     "grade_id": "grading-header",
     "locked": true,
     "schema_version": 3,
     "solution": false,
     "task": false
    }
   },
   "source": [
    "# Grading cells\n",
    "The cells below marked as \"grade use only\" are created as placeholders so that we can provide a manual grade and comments for each category. \n",
    "\n",
    "Exceptions are the \"2. Style\" test, which has an associated autograder test that you can run to check style and the timing cell \"cell-optimization0\", which you can use to test your code execution time."
   ]
  },
  {
   "cell_type": "code",
   "execution_count": null,
   "metadata": {
    "collapsed": false,
    "deletable": false,
    "nbgrader": {
     "cell_type": "code",
     "checksum": "8e504b336d0708b08d3e768cfb818a72",
     "grade": true,
     "grade_id": "cell-executes",
     "locked": false,
     "points": 15,
     "schema_version": 3,
     "solution": true,
     "task": false
    }
   },
   "outputs": [],
   "source": [
    "# 1. Code execution (grader use only)"
   ]
  },
  {
   "cell_type": "code",
   "execution_count": null,
   "metadata": {
    "collapsed": false,
    "deletable": false,
    "editable": false,
    "nbgrader": {
     "grade": true,
     "grade_id": "cell-style",
     "locked": true,
     "points": 5,
     "schema_version": 3,
     "solution": false,
     "task": false
    }
   },
   "outputs": [
    {
     "name": "stdout",
     "output_type": "stream",
     "text": [
      "checking unnamed cell\n",
      "checking cell: cell-project1-main\n",
      "checking unnamed cell\n",
      "checking unnamed cell\n",
      "checking unnamed cell\n"
     ]
    }
   ],
   "source": [
    "# 2. Style: pep8\n",
    "#\n",
    "# Tests for pep8 returns warnings or errors. You may need to hit 'Save' after making changes for them to take effect.\n",
    "nb_name = \"project01.ipynb\"\n",
    "cells_to_check = []\n",
    "stop_at = ['cell-extension']\n",
    "# check_style2.py uses cells_to_check and nb_name\n",
    "%run -i check_style2.py"
   ]
  },
  {
   "cell_type": "code",
   "execution_count": null,
   "metadata": {
    "collapsed": false,
    "deletable": false,
    "nbgrader": {
     "cell_type": "code",
     "checksum": "0bfba331bdaa16e3e38c7f315efdff77",
     "grade": true,
     "grade_id": "cell-results",
     "locked": false,
     "points": 25,
     "schema_version": 3,
     "solution": true,
     "task": false
    }
   },
   "outputs": [],
   "source": [
    "# 3. Results (grader use only)"
   ]
  },
  {
   "cell_type": "code",
   "execution_count": null,
   "metadata": {
    "collapsed": false,
    "deletable": false,
    "nbgrader": {
     "cell_type": "code",
     "checksum": "db5de4b808cef8a773db36bf30cb60c5",
     "grade": true,
     "grade_id": "cell-readability",
     "locked": false,
     "points": 25,
     "schema_version": 3,
     "solution": true,
     "task": false
    }
   },
   "outputs": [],
   "source": [
    "# 4. Readability (grader use only)"
   ]
  },
  {
   "cell_type": "code",
   "execution_count": null,
   "metadata": {
    "collapsed": false,
    "deletable": false,
    "nbgrader": {
     "cell_type": "code",
     "checksum": "5f88731ac323e35ec9219653b4ac085b",
     "grade": true,
     "grade_id": "cell-plots",
     "locked": false,
     "points": 15,
     "schema_version": 3,
     "solution": true,
     "task": false
    }
   },
   "outputs": [],
   "source": [
    "# 5. Plot (grader use only)"
   ]
  },
  {
   "cell_type": "code",
   "execution_count": null,
   "metadata": {
    "collapsed": false,
    "deletable": false,
    "editable": false,
    "nbgrader": {
     "grade": true,
     "grade_id": "cell-optimization0",
     "locked": true,
     "points": 0,
     "schema_version": 3,
     "solution": false,
     "task": false
    }
   },
   "outputs": [
    {
     "name": "stdout",
     "output_type": "stream",
     "text": [
      "Time for cell: cell-project1-main time: 0.00\n",
      "Total time: 0.00\n"
     ]
    }
   ],
   "source": [
    "# Check execution time\n",
    "nb_name = \"project01.ipynb\"\n",
    "cells_to_time = ['cell-project1-main']\n",
    "stop_at = []\n",
    "%run -i time_cells2.py"
   ]
  },
  {
   "cell_type": "code",
   "execution_count": null,
   "metadata": {
    "collapsed": false,
    "deletable": false,
    "nbgrader": {
     "cell_type": "code",
     "checksum": "a8a3076187fd64d1224573d70288d2a0",
     "grade": true,
     "grade_id": "cell-optimization1",
     "locked": false,
     "points": 5,
     "schema_version": 3,
     "solution": true,
     "task": false
    }
   },
   "outputs": [],
   "source": [
    "# 5. Code optimization/timing (grader use only)"
   ]
  },
  {
   "cell_type": "code",
   "execution_count": null,
   "metadata": {
    "collapsed": false,
    "deletable": false,
    "nbgrader": {
     "cell_type": "code",
     "checksum": "f3bfbc592099991ad62d237a378affe1",
     "grade": true,
     "grade_id": "cell-new_features",
     "locked": false,
     "points": 2,
     "schema_version": 3,
     "solution": true,
     "task": false
    }
   },
   "outputs": [],
   "source": [
    "# B2. New Functionality/Language features (grader use only)"
   ]
  },
  {
   "cell_type": "code",
   "execution_count": null,
   "metadata": {
    "collapsed": false,
    "pycharm": {
     "name": "#%%\n"
    }
   },
   "outputs": [],
   "source": []
  }
 ],
 "metadata": {
  "celltoolbar": "Create Assignment",
  "kernelspec": {
   "display_name": "Python 3 (system-wide)",
   "language": "python",
   "metadata": {
    "cocalc": {
     "description": "Python 3 programming language",
     "priority": 100,
     "url": "https://www.python.org/"
    }
   },
   "name": "python3",
   "resource_dir": "/ext/jupyter/kernels/python3"
  },
  "language_info": {
   "codemirror_mode": {
    "name": "ipython",
    "version": 3
   },
   "file_extension": ".py",
   "mimetype": "text/x-python",
   "name": "python",
   "nbconvert_exporter": "python",
   "pygments_lexer": "ipython3",
   "version": "3.9.12"
  },
  "nbgrader": {
   "__altered": false,
   "__hash": -651869538,
   "_root": {
    "entries": [
     [
      "size",
      6
     ],
     [
      "_root",
      {
       "entries": [
        [
         "size",
         5
        ],
        [
         "_root",
         {
          "entries": [
           [
            "__altered",
            false
           ],
           [
            "__hash",
            -1072767477
           ],
           [
            "_root",
            {
             "entries": [
              [
               "size",
               6
              ],
              [
               "_root",
               {
                "entries": [
                 [
                  "size",
                  1
                 ],
                 [
                  "_root",
                  {
                   "entries": [
                    [
                     "cocalc_minimal_stubs",
                     false
                    ]
                   ],
                   "ownerID": {}
                  }
                 ],
                 [
                  "__ownerID",
                  null
                 ],
                 [
                  "__hash",
                  -335098374
                 ],
                 [
                  "__altered",
                  false
                 ],
                 [
                  "cocalc_minimal_stubs",
                  false
                 ]
                ],
                "ownerID": {}
               }
              ],
              [
               "__hash",
               -1062824929
              ],
              [
               "__altered",
               false
              ],
              [
               "cocalc_minimal_stubs",
               false
              ]
             ],
             "ownerID": {}
            }
           ],
           [
            "cocalc_minimal_stubs",
            false
           ],
           [
            "size",
            5
           ]
          ],
          "ownerID": {}
         }
        ],
        [
         "__ownerID",
         null
        ],
        [
         "__hash",
         250283375
        ],
        [
         "__altered",
         false
        ],
        [
         "cocalc_minimal_stubs",
         false
        ]
       ],
       "ownerID": {}
      }
     ],
     [
      "__ownerID",
      null
     ],
     [
      "__hash",
      -24045107
     ],
     [
      "__altered",
      false
     ],
     [
      "cocalc_minimal_stubs",
      false
     ]
    ],
    "ownerID": {}
   },
   "cocalc_minimal_stubs": false,
   "size": 6
  }
 },
 "nbformat": 4,
 "nbformat_minor": 4
}
