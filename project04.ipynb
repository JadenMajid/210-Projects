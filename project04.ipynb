{
 "cells": [
  {
   "cell_type": "markdown",
   "metadata": {
    "collapsed": false,
    "deletable": false,
    "editable": false,
    "nbgrader": {
     "grade": false,
     "grade_id": "0c2615",
     "locked": true,
     "schema_version": 3,
     "solution": false,
     "task": false
    }
   },
   "source": [
    "# PHYS 210 Mini-Project 04\n",
    "\n",
    "### Maxwell Boltzmann Distribution\n",
    "\n",
    "Due Wed, Nov 30, 2022 - 9am\n"
   ]
  },
  {
   "cell_type": "code",
   "execution_count": 1,
   "metadata": {
    "collapsed": false,
    "deletable": false,
    "nbgrader": {
     "cell_type": "code",
     "checksum": "820ed7dba3283f0827ec3906b2aa1bea",
     "grade": true,
     "grade_id": "cell-project4-2",
     "locked": false,
     "points": 0,
     "schema_version": 3,
     "solution": true,
     "task": false
    }
   },
   "outputs": [
    {
     "data": {
      "text/html": [
       "<video controls> <source src=\"collide.webm\" type=\"video/webm\"></video>"
      ],
      "text/plain": [
       "<IPython.core.display.HTML object>"
      ]
     },
     "execution_count": 1,
     "metadata": {},
     "output_type": "execute_result"
    }
   ],
   "source": [
    "import numpy as np\n",
    "import matplotlib.pyplot as plt\n",
    "import matplotlib.animation as animation\n",
    "from itertools import combinations\n",
    "from IPython.display import HTML\n",
    "\n",
    "\"\"\"\n",
    "For this project, the given template was followed.\n",
    "Inital parameters for the simulation are set, then an animation of the gas'\n",
    "progression is created and saved.\n",
    "\n",
    "Then, two histograms are created of the speed and kinetic energy distributions of\n",
    "the gas, with fitted curves showing the temperature of the gas.\n",
    "\"\"\"\n",
    "\n",
    "# Initial Parameters\n",
    "npoint = 400\n",
    "nframe = 500\n",
    "xmin, xmax, ymin, ymax = 0, 1, 0, 1\n",
    "\n",
    "# Particle parameters\n",
    "Dt = 0.00002  # s\n",
    "prad = 0.0015  # m\n",
    "pm = 2.672 * 10**(-26)  # kg\n",
    "\n",
    "x = np.random.random(npoint)\n",
    "y = np.random.random(npoint)\n",
    "vx = -500. * np.ones(npoint)\n",
    "vy = np.zeros(npoint)\n",
    "vx[x <= 0.5] = -vx[x <= 0.5]\n",
    "\n",
    "temparr = np.arange(npoint)\n",
    "combs = np.asarray(list(combinations(temparr, 2)))\n",
    "\n",
    "carr = np.full(shape=(npoint, 3), fill_value=(0, 0, 0))\n",
    "carr[x <= 0.5] = (0, 0, 1)\n",
    "carr[x > 0.5] = (1, 0, 0)\n",
    "\n",
    "\n",
    "def get_indices(comb_i):\n",
    "    \"\"\"\n",
    "    Gets the respective index of the values used in combinations\n",
    "\n",
    "    comb_i: index of the pair of values that we want in the combination\n",
    "\n",
    "    returns index of the first values and the index of the second value\n",
    "    in the combination term xx\n",
    "    \"\"\"\n",
    "\n",
    "    a = combs[comb_i][:, 0]\n",
    "    b = combs[comb_i][:, 1]\n",
    "    return a, b\n",
    "\n",
    "\n",
    "def update_point(num):\n",
    "    \"\"\"\n",
    "    Function to update the points, updates two time steps then appends data to im\n",
    "    \"\"\"\n",
    "    global x, y, vx, vy\n",
    "    # 2 steps per frame\n",
    "    for i in range(2):\n",
    "        # Time step\n",
    "        dx = Dt * vx\n",
    "        dy = Dt * vy\n",
    "        x = x + dx\n",
    "        y = y + dy\n",
    "        indx = np.where((x < xmin) | (x > xmax))\n",
    "        indy = np.where((y < ymin) | (y > ymax))\n",
    "        vx[indx] = -vx[indx]\n",
    "        vy[indy] = -vy[indy]\n",
    "\n",
    "        xx = np.asarray(list(combinations(x, 2)))\n",
    "        yy = np.asarray(list(combinations(y, 2)))\n",
    "\n",
    "        # Distances between particles:\n",
    "        dd = (xx[:, 0] - xx[:, 1])**2 + (yy[:, 0] - yy[:, 1])**2\n",
    "\n",
    "        col = np.where(np.sqrt(dd) <= 2 * prad)\n",
    "\n",
    "        p1, p2 = list(get_indices(col))\n",
    "\n",
    "        # Need to only use old values when calculating new\n",
    "        ovx = np.copy(vx)\n",
    "        ovy = np.copy(vy)\n",
    "        ox = np.copy(x)\n",
    "        oy = np.copy(y)\n",
    "\n",
    "        # Calculating new values\n",
    "        vx[p1] = (ovx[p1] - ((ovx[p1] - ovx[p2]) * (ox[p1] - ox[p2]) +\n",
    "                             (ovy[p1] - ovy[p2]) * (oy[p1] - oy[p2])) *\n",
    "                  (ox[p1] - ox[p2]) / dd[col])\n",
    "        vx[p2] = (ovx[p2] - ((ovx[p2] - ovx[p1]) * (ox[p2] - ox[p1]) +\n",
    "                             (ovy[p2] - ovy[p1]) * (oy[p2] - oy[p1])) *\n",
    "                  (ox[p2] - ox[p1]) / dd[col])\n",
    "        vy[p1] = (ovy[p1] - ((ovx[p1] - ovx[p2]) * (ox[p1] - ox[p2]) +\n",
    "                             (ovy[p1] - ovy[p2]) * (oy[p1] - oy[p2])) *\n",
    "                  (oy[p1] - oy[p2]) / dd[col])\n",
    "        vy[p2] = (ovy[p2] - ((ovx[p2] - ovx[p1]) * (ox[p2] - ox[p1]) +\n",
    "                             (ovy[p2] - ovy[p1]) * (oy[p2] - oy[p1])) *\n",
    "                  (oy[p2] - oy[p1]) / dd[col])\n",
    "\n",
    "    data = np.stack((x, y), axis=-1)\n",
    "    im.set_offsets(data)\n",
    "\n",
    "\n",
    "fig, ax = plt.subplots()\n",
    "plt.xlim(xmin, xmax)\n",
    "plt.ylim(ymin, ymax)\n",
    "\n",
    "# Creating x, vx, y and vy arrays for each point\n",
    "x = np.random.random(npoint)\n",
    "y = np.random.random(npoint)\n",
    "vx = -500. * np.ones(npoint)\n",
    "vy = np.zeros(npoint)\n",
    "vx[np.where(x <= 0.5)] = -vx[np.where(x <= 0.5)]\n",
    "vy[np.where(y <= 0.5)] = -vy[np.where(y <= 0.5)]\n",
    "im = ax.scatter(x, y)\n",
    "im.set_sizes([20])\n",
    "\n",
    "anim = animation.FuncAnimation(fig,\n",
    "                               update_point,\n",
    "                               nframe,\n",
    "                               interval=30,\n",
    "                               repeat=False)\n",
    "anim.save('collide.webm', extra_args=['-vcodec', 'libvpx'])\n",
    "plt.close()\n",
    "HTML('<video controls> <source src=\"collide.webm\" ' +\n",
    "     'type=\"video/webm\"></video>')\n"
   ]
  },
  {
   "cell_type": "code",
   "execution_count": 2,
   "metadata": {},
   "outputs": [
    {
     "data": {
      "image/png": "[encoded data removed]",
      "text/plain": [
       "<Figure size 720x360 with 2 Axes>"
      ]
     },
     "metadata": {
      "needs_background": "light"
     },
     "output_type": "display_data"
    }
   ],
   "source": [
    "# Plotting cell\n",
    "import matplotlib.pyplot as plt\n",
    "import scipy.optimize as sci\n",
    "\n",
    "vel = np.sqrt(vx ** 2 + vy ** 2)\n",
    "Ek = 1/2 * pm * vel ** 2\n",
    "kb = 1.38E-23\n",
    "\n",
    "velocityhist = np.histogram(vel, 25, density=True)\n",
    "energyhist = np.histogram(Ek, 25, density=True)\n",
    "\n",
    "fig, ax = plt.subplots(1, 2, figsize=(10, 5))\n",
    "\n",
    "# Plot 1\n",
    "ax[0].hist(vel, 25, density=True, color=\"green\")\n",
    "ax[0].title.set_text(\"Histogram of particle speed\")\n",
    "ax[0].xaxis.label.set_text(\"Speed (m/s)\")\n",
    "ax[0].yaxis.label.set_text(\"Probability\")\n",
    "\n",
    "# Plot 2\n",
    "ax[1].hist(Ek, 25, density=True, color=\"blue\")\n",
    "ax[1].title.set_text(\"Histogram of particle kinetic energy\")\n",
    "ax[1].xaxis.label.set_text(\"Kinetic Energy (J)\")\n",
    "ax[1].yaxis.label.set_text(\"Probability\")\n",
    "plt.subplots_adjust(wspace=0.1)\n",
    "\n",
    "\n",
    "def f(v, T):\n",
    "    \"\"\"Fitting function for the speed distribution\"\"\"\n",
    "    return pm * v / T / kb * np.exp(-pm * v ** 2 / (2 * kb * T))\n",
    "\n",
    "\n",
    "def g(E, T):\n",
    "    \"\"\"Fitting function for the kinetic energy distribution\"\"\"\n",
    "    return 1 / (T * kb) * np.exp(-E / (kb * T))\n",
    "\n",
    "\n",
    "T, tcov = sci.curve_fit(f, velocityhist[1][:-1], velocityhist[0])\n",
    "terr = np.sqrt(np.diag(tcov))\n",
    "\n",
    "vel.sort()\n",
    "Ek.sort()\n",
    "\n",
    "ax[0].plot(vel, f(vel, T), color='red')\n",
    "ax[1].plot(Ek, g(Ek, T), color='red')\n",
    "ax[0].text(700, 0.0018, \"T = {:.1f} \\u00B1 {:.1f} K\".format(\n",
    "    T[0], terr[0]), color='red')\n",
    "ax[1].text(np.max(energyhist[1])/2, np.max(energyhist[0])/1.2,\n",
    "           \"T = {:.1f} \\u00B1 {:.1f} K\".format(T[0], terr[0]), color='red')\n",
    "plt.show()\n"
   ]
  },
  {
   "cell_type": "markdown",
   "metadata": {
    "collapsed": false,
    "deletable": false,
    "editable": false,
    "nbgrader": {
     "grade": false,
     "grade_id": "cf5dfa",
     "locked": true,
     "schema_version": 3,
     "solution": false,
     "task": false
    }
   },
   "source": [
    "# Acknowledgements\n",
    "\n",
    "In the cell below, please describe the role of **anyone other than yourself** who contributed to the work shown in this notebook.\n",
    "\n",
    "Its ok to get help from us and classmates! Please get in the habit of acknowledging such contributions.\n",
    "\n",
    "If you want to refer to a classmate, please use only their cocalc email-id and not their name - or you could just say something like: \"a classmate gave me the idea to use xxx feature to solve yyy problem.\"\n"
   ]
  },
  {
   "cell_type": "markdown",
   "metadata": {
    "collapsed": false
   },
   "source": [
    "_Acknowledgements here:_\n"
   ]
  },
  {
   "cell_type": "markdown",
   "metadata": {
    "collapsed": false,
    "deletable": false,
    "editable": false,
    "nbgrader": {
     "grade": false,
     "grade_id": "5a51c40",
     "locked": true,
     "schema_version": 3,
     "solution": false,
     "task": false
    }
   },
   "source": [
    "# Extension Code and Description\n",
    "\n",
    "All solution code for the main project question should appear in the two main cells above above. Project extensions go in the cell \"cell-extension\" immediately below and the descriptions of your extension go in the cell below that.\n"
   ]
  },
  {
   "cell_type": "code",
   "execution_count": 3,
   "metadata": {
    "collapsed": false,
    "deletable": false,
    "nbgrader": {
     "cell_type": "code",
     "checksum": "887dd39afb49072de92ec16acce3a808",
     "grade": true,
     "grade_id": "cell-extension",
     "locked": false,
     "points": 3,
     "schema_version": 3,
     "solution": true,
     "task": false
    }
   },
   "outputs": [],
   "source": [
    "# OPTIONAL project extension here\n",
    "# These can call functions in your code above if desired\n",
    "# YOUR CODE HERE\n"
   ]
  },
  {
   "cell_type": "markdown",
   "metadata": {
    "collapsed": false
   },
   "source": [
    "_In this cell, please describe any new language features or project extension you have implemented:_\n"
   ]
  },
  {
   "cell_type": "markdown",
   "metadata": {
    "collapsed": false,
    "deletable": false,
    "editable": false,
    "nbgrader": {
     "grade": false,
     "grade_id": "grading-header",
     "locked": true,
     "schema_version": 3,
     "solution": false,
     "task": false
    }
   },
   "source": [
    "# Grading cells\n",
    "\n",
    "The cells below marked as \"grade use only\" are created as placeholders so that we can provide a manual grade and comments for each category.\n",
    "\n",
    "Exceptions are the \"2. Style\" test, which has an associated autograder test that you can run to check style and the timing cell \"cell-optimization0\", which you can use to test your code execution time.\n"
   ]
  },
  {
   "cell_type": "code",
   "execution_count": 4,
   "metadata": {
    "collapsed": false,
    "deletable": false,
    "nbgrader": {
     "cell_type": "code",
     "checksum": "5fddc8dcc07404068c6f34898e8762c9",
     "grade": true,
     "grade_id": "cell-executes",
     "locked": false,
     "points": 20,
     "schema_version": 3,
     "solution": true,
     "task": false
    }
   },
   "outputs": [],
   "source": [
    "# 1. Code execution (grader use only)\n"
   ]
  },
  {
   "cell_type": "code",
   "execution_count": 5,
   "metadata": {
    "collapsed": false,
    "deletable": false,
    "editable": false,
    "nbgrader": {
     "grade": true,
     "grade_id": "cell-style",
     "locked": true,
     "points": 5,
     "schema_version": 3,
     "solution": false,
     "task": false
    }
   },
   "outputs": [
    {
     "ename": "Exception",
     "evalue": "File `'check_style2.py'` not found.",
     "output_type": "error",
     "traceback": [
      "\u001b[0;31m---------------------------------------------------------------------------\u001b[0m",
      "\u001b[0;31mOSError\u001b[0m                                   Traceback (most recent call last)",
      "File \u001b[0;32m~/opt/anaconda3/lib/python3.9/site-packages/IPython/core/magics/execution.py:696\u001b[0m, in \u001b[0;36mExecutionMagics.run\u001b[0;34m(self, parameter_s, runner, file_finder)\u001b[0m\n\u001b[1;32m    695\u001b[0m     fpath \u001b[39m=\u001b[39m arg_lst[\u001b[39m0\u001b[39m]\n\u001b[0;32m--> 696\u001b[0m     filename \u001b[39m=\u001b[39m file_finder(fpath)\n\u001b[1;32m    697\u001b[0m \u001b[39mexcept\u001b[39;00m \u001b[39mIndexError\u001b[39;00m \u001b[39mas\u001b[39;00m e:\n",
      "File \u001b[0;32m~/opt/anaconda3/lib/python3.9/site-packages/IPython/utils/path.py:91\u001b[0m, in \u001b[0;36mget_py_filename\u001b[0;34m(name)\u001b[0m\n\u001b[1;32m     90\u001b[0m \u001b[39melse\u001b[39;00m:\n\u001b[0;32m---> 91\u001b[0m     \u001b[39mraise\u001b[39;00m \u001b[39mIOError\u001b[39;00m(\u001b[39m'\u001b[39m\u001b[39mFile `\u001b[39m\u001b[39m%r\u001b[39;00m\u001b[39m` not found.\u001b[39m\u001b[39m'\u001b[39m \u001b[39m%\u001b[39m name)\n",
      "\u001b[0;31mOSError\u001b[0m: File `'check_style2.py'` not found.",
      "\nThe above exception was the direct cause of the following exception:\n",
      "\u001b[0;31mException\u001b[0m                                 Traceback (most recent call last)",
      "\u001b[1;32m/Users/jadenmajid/Documents/University/2nd Year/T2/PHYS 229/Experiment 2/210-Projects/project04.ipynb Cell 11\u001b[0m in \u001b[0;36m<cell line: 8>\u001b[0;34m()\u001b[0m\n\u001b[1;32m      <a href='vscode-notebook-cell:/Users/jadenmajid/Documents/University/2nd%20Year/T2/PHYS%20229/Experiment%202/210-Projects/project04.ipynb#X13sZmlsZQ%3D%3D?line=5'>6</a>\u001b[0m stop_at \u001b[39m=\u001b[39m [\u001b[39m'\u001b[39m\u001b[39mcell-extension\u001b[39m\u001b[39m'\u001b[39m]\n\u001b[1;32m      <a href='vscode-notebook-cell:/Users/jadenmajid/Documents/University/2nd%20Year/T2/PHYS%20229/Experiment%202/210-Projects/project04.ipynb#X13sZmlsZQ%3D%3D?line=6'>7</a>\u001b[0m \u001b[39m# check_style2.py uses cells_to_check and nb_name\u001b[39;00m\n\u001b[0;32m----> <a href='vscode-notebook-cell:/Users/jadenmajid/Documents/University/2nd%20Year/T2/PHYS%20229/Experiment%202/210-Projects/project04.ipynb#X13sZmlsZQ%3D%3D?line=7'>8</a>\u001b[0m get_ipython()\u001b[39m.\u001b[39;49mrun_line_magic(\u001b[39m'\u001b[39;49m\u001b[39mrun\u001b[39;49m\u001b[39m'\u001b[39;49m, \u001b[39m'\u001b[39;49m\u001b[39m-i check_style2.py\u001b[39;49m\u001b[39m'\u001b[39;49m)\n",
      "File \u001b[0;32m~/opt/anaconda3/lib/python3.9/site-packages/IPython/core/interactiveshell.py:2294\u001b[0m, in \u001b[0;36mInteractiveShell.run_line_magic\u001b[0;34m(self, magic_name, line, _stack_depth)\u001b[0m\n\u001b[1;32m   2292\u001b[0m     kwargs[\u001b[39m'\u001b[39m\u001b[39mlocal_ns\u001b[39m\u001b[39m'\u001b[39m] \u001b[39m=\u001b[39m \u001b[39mself\u001b[39m\u001b[39m.\u001b[39mget_local_scope(stack_depth)\n\u001b[1;32m   2293\u001b[0m \u001b[39mwith\u001b[39;00m \u001b[39mself\u001b[39m\u001b[39m.\u001b[39mbuiltin_trap:\n\u001b[0;32m-> 2294\u001b[0m     result \u001b[39m=\u001b[39m fn(\u001b[39m*\u001b[39;49margs, \u001b[39m*\u001b[39;49m\u001b[39m*\u001b[39;49mkwargs)\n\u001b[1;32m   2295\u001b[0m \u001b[39mreturn\u001b[39;00m result\n",
      "File \u001b[0;32m~/opt/anaconda3/lib/python3.9/site-packages/IPython/core/magics/execution.py:707\u001b[0m, in \u001b[0;36mExecutionMagics.run\u001b[0;34m(self, parameter_s, runner, file_finder)\u001b[0m\n\u001b[1;32m    705\u001b[0m     \u001b[39mif\u001b[39;00m os\u001b[39m.\u001b[39mname \u001b[39m==\u001b[39m \u001b[39m'\u001b[39m\u001b[39mnt\u001b[39m\u001b[39m'\u001b[39m \u001b[39mand\u001b[39;00m re\u001b[39m.\u001b[39mmatch(\u001b[39mr\u001b[39m\u001b[39m\"\u001b[39m\u001b[39m^\u001b[39m\u001b[39m'\u001b[39m\u001b[39m.*\u001b[39m\u001b[39m'\u001b[39m\u001b[39m$\u001b[39m\u001b[39m\"\u001b[39m,fpath):\n\u001b[1;32m    706\u001b[0m         warn(\u001b[39m'\u001b[39m\u001b[39mFor Windows, use double quotes to wrap a filename: \u001b[39m\u001b[39m%r\u001b[39;00m\u001b[39mun \u001b[39m\u001b[39m\"\u001b[39m\u001b[39mmypath\u001b[39m\u001b[39m\\\\\u001b[39;00m\u001b[39mmyfile.py\u001b[39m\u001b[39m\"\u001b[39m\u001b[39m'\u001b[39m)\n\u001b[0;32m--> 707\u001b[0m     \u001b[39mraise\u001b[39;00m \u001b[39mException\u001b[39;00m(msg) \u001b[39mfrom\u001b[39;00m \u001b[39me\u001b[39;00m\n\u001b[1;32m    708\u001b[0m \u001b[39mexcept\u001b[39;00m \u001b[39mTypeError\u001b[39;00m:\n\u001b[1;32m    709\u001b[0m     \u001b[39mif\u001b[39;00m fpath \u001b[39min\u001b[39;00m sys\u001b[39m.\u001b[39mmeta_path:\n",
      "\u001b[0;31mException\u001b[0m: File `'check_style2.py'` not found."
     ]
    }
   ],
   "source": [
    "# 2. Style: pep8 (see note below regarding use of the Format button to fix many errors)\n",
    "#\n",
    "# Tests for pep8 returns warnings or errors. You may need to hit 'Save' after making changes for them to take effect.\n",
    "nb_name = \"project04.ipynb\"\n",
    "cells_to_check = []\n",
    "stop_at = ['cell-extension']\n",
    "# check_style2.py uses cells_to_check and nb_name\n",
    "%run -i check_style2.py\n"
   ]
  },
  {
   "cell_type": "markdown",
   "metadata": {
    "collapsed": false,
    "deletable": false,
    "editable": false,
    "nbgrader": {
     "grade": false,
     "grade_id": "87d438",
     "locked": true,
     "schema_version": 3,
     "solution": false,
     "task": false
    }
   },
   "source": [
    "Also note that you can use the Format button while in a code cell to automagically fix most pep8 errors (other than way too long print statements)\n",
    "\n",
    "![](project02-format.png)\n"
   ]
  },
  {
   "cell_type": "code",
   "execution_count": null,
   "metadata": {
    "collapsed": false,
    "deletable": false,
    "nbgrader": {
     "cell_type": "code",
     "checksum": "0bfba331bdaa16e3e38c7f315efdff77",
     "grade": true,
     "grade_id": "cell-results",
     "locked": false,
     "points": 25,
     "schema_version": 3,
     "solution": true,
     "task": false
    }
   },
   "outputs": [],
   "source": [
    "# 3. Results (grader use only)\n"
   ]
  },
  {
   "cell_type": "code",
   "execution_count": null,
   "metadata": {
    "collapsed": false,
    "deletable": false,
    "nbgrader": {
     "cell_type": "code",
     "checksum": "f39a7cf08454b2b3946e33e39f851429",
     "grade": true,
     "grade_id": "cell-readability",
     "locked": false,
     "points": 30,
     "schema_version": 3,
     "solution": true,
     "task": false
    }
   },
   "outputs": [],
   "source": [
    "# 4. Readability (grader use only)\n"
   ]
  },
  {
   "cell_type": "code",
   "execution_count": null,
   "metadata": {
    "collapsed": false,
    "deletable": false,
    "nbgrader": {
     "cell_type": "code",
     "checksum": "5f88731ac323e35ec9219653b4ac085b",
     "grade": true,
     "grade_id": "cell-plots",
     "locked": false,
     "points": 15,
     "schema_version": 3,
     "solution": true,
     "task": false
    }
   },
   "outputs": [],
   "source": [
    "# 5. Plot (grader use only)\n"
   ]
  },
  {
   "cell_type": "code",
   "execution_count": null,
   "metadata": {
    "collapsed": false,
    "deletable": false,
    "editable": false,
    "nbgrader": {
     "grade": true,
     "grade_id": "cell-optimization0",
     "locked": true,
     "points": 0,
     "schema_version": 3,
     "solution": false,
     "task": false
    }
   },
   "outputs": [
    {
     "data": {
      "text/html": [
       "<video controls> <source src=\"collide.webm\" type=\"video/webm\"></video>"
      ],
      "text/plain": [
       "<IPython.core.display.HTML object>"
      ]
     },
     "execution_count": 44,
     "metadata": {},
     "output_type": "execute_result"
    },
    {
     "name": "stdout",
     "output_type": "stream",
     "text": [
      "Time for cell: cell-project4-2 time: 40.27\n"
     ]
    },
    {
     "data": {
      "image/png": "[encoded data removed]",
      "text/plain": [
       "<Figure size 1000x500 with 2 Axes>"
      ]
     },
     "metadata": {},
     "output_type": "display_data"
    },
    {
     "name": "stdout",
     "output_type": "stream",
     "text": [
      "Time for unnamed cell: 0.73\n",
      "Total time: 41.00\n"
     ]
    }
   ],
   "source": [
    "# Check execution time\n",
    "nb_name = \"project04.ipynb\"\n",
    "cells_to_time = []\n",
    "stop_at = ['cell-extension']\n",
    "%run -i time_cells2.py\n"
   ]
  },
  {
   "cell_type": "code",
   "execution_count": null,
   "metadata": {
    "collapsed": false,
    "deletable": false,
    "nbgrader": {
     "cell_type": "code",
     "checksum": "a8a3076187fd64d1224573d70288d2a0",
     "grade": true,
     "grade_id": "cell-optimization1",
     "locked": false,
     "points": 5,
     "schema_version": 3,
     "solution": true,
     "task": false
    }
   },
   "outputs": [],
   "source": [
    "# 5. Code optimization/timing (grader use only)\n"
   ]
  },
  {
   "cell_type": "code",
   "execution_count": null,
   "metadata": {
    "collapsed": false,
    "deletable": false,
    "nbgrader": {
     "cell_type": "code",
     "checksum": "f3bfbc592099991ad62d237a378affe1",
     "grade": true,
     "grade_id": "cell-new_features",
     "locked": false,
     "points": 2,
     "schema_version": 3,
     "solution": true,
     "task": false
    }
   },
   "outputs": [],
   "source": [
    "# B2. New Functionality/Language features (grader use only)\n"
   ]
  }
 ],
 "metadata": {
  "celltoolbar": "Create Assignment",
  "kernelspec": {
   "display_name": "Python 3.9.6 64-bit",
   "language": "python",
   "name": "python3"
  },
  "language_info": {
   "codemirror_mode": {
    "name": "ipython",
    "version": 3
   },
   "file_extension": ".py",
   "mimetype": "text/x-python",
   "name": "python",
   "nbconvert_exporter": "python",
   "pygments_lexer": "ipython3",
   "version": "3.9.12"
  },
  "nbgrader": {
   "__altered": false,
   "__hash": -203116787,
   "_root": {
    "entries": [
     [
      "size",
      5
     ],
     [
      "_root",
      {
       "entries": [
        [
         "__altered",
         false
        ],
        [
         "__hash",
         -404592343
        ],
        [
         "_root",
         {
          "entries": [
           [
            "__altered",
            false
           ],
           [
            "__hash",
            -679907196
           ],
           [
            "_root",
            {
             "entries": [
              [
               "__altered",
               false
              ],
              [
               "__hash",
               -651869538
              ],
              [
               "_root",
               {
                "entries": [
                 [
                  "size",
                  6
                 ],
                 [
                  "_root",
                  {
                   "entries": [
                    [
                     "size",
                     5
                    ],
                    [
                     "_root",
                     {
                      "entries": [
                       [
                        "__altered",
                        false
                       ],
                       [
                        "__hash",
                        -1072767477
                       ],
                       [
                        "_root",
                        {
                         "entries": [
                          [
                           "size",
                           6
                          ],
                          [
                           "_root",
                           {
                            "entries": [
                             [
                              "size",
                              1
                             ],
                             [
                              "_root",
                              {
                               "entries": [
                                [
                                 "cocalc_minimal_stubs",
                                 false
                                ]
                               ],
                               "ownerID": {}
                              }
                             ],
                             [
                              "__ownerID",
                              null
                             ],
                             [
                              "__hash",
                              -335098374
                             ],
                             [
                              "__altered",
                              false
                             ],
                             [
                              "cocalc_minimal_stubs",
                              false
                             ]
                            ],
                            "ownerID": {}
                           }
                          ],
                          [
                           "__hash",
                           -1062824929
                          ],
                          [
                           "__altered",
                           false
                          ],
                          [
                           "cocalc_minimal_stubs",
                           false
                          ]
                         ],
                         "ownerID": {}
                        }
                       ],
                       [
                        "cocalc_minimal_stubs",
                        false
                       ],
                       [
                        "size",
                        5
                       ]
                      ],
                      "ownerID": {}
                     }
                    ],
                    [
                     "__ownerID",
                     null
                    ],
                    [
                     "__hash",
                     250283375
                    ],
                    [
                     "__altered",
                     false
                    ],
                    [
                     "cocalc_minimal_stubs",
                     false
                    ]
                   ],
                   "ownerID": {}
                  }
                 ],
                 [
                  "__ownerID",
                  null
                 ],
                 [
                  "__hash",
                  -24045107
                 ],
                 [
                  "__altered",
                  false
                 ],
                 [
                  "cocalc_minimal_stubs",
                  false
                 ]
                ],
                "ownerID": {}
               }
              ],
              [
               "cocalc_minimal_stubs",
               false
              ],
              [
               "size",
               6
              ]
             ],
             "ownerID": {}
            }
           ],
           [
            "cocalc_minimal_stubs",
            false
           ],
           [
            "size",
            5
           ]
          ],
          "ownerID": {}
         }
        ],
        [
         "cocalc_minimal_stubs",
         false
        ],
        [
         "size",
         5
        ]
       ],
       "ownerID": {}
      }
     ],
     [
      "__hash",
      57563853
     ],
     [
      "__altered",
      false
     ],
     [
      "cocalc_minimal_stubs",
      false
     ]
    ],
    "ownerID": {}
   },
   "cocalc_minimal_stubs": false,
   "size": 5
  },
  "vscode": {
   "interpreter": {
    "hash": "aee8b7b246df8f9039afb4144a1f6fd8d2ca17a180786b69acc140d282b71a49"
   }
  }
 },
 "nbformat": 4,
 "nbformat_minor": 4
}
