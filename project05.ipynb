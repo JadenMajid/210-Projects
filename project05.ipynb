{
 "cells": [
  {
   "cell_type": "markdown",
   "metadata": {
    "collapsed": false,
    "deletable": false,
    "editable": false,
    "nbgrader": {
     "grade": false,
     "grade_id": "0c2615",
     "locked": true,
     "schema_version": 3,
     "solution": false,
     "task": false
    }
   },
   "source": [
    "# PHYS 210 Mini-Project 05\n",
    "\n",
    "### Diffusion\n",
    "\n",
    "Due Wed, Dec 07, 2022 - 9am\n"
   ]
  },
  {
   "cell_type": "code",
   "execution_count": 1,
   "metadata": {
    "collapsed": false,
    "deletable": false,
    "nbgrader": {
     "cell_type": "code",
     "checksum": "684742de8c51d0b70a07c5b1b901bcb9",
     "grade": true,
     "grade_id": "cell-project5-1",
     "locked": false,
     "points": 0,
     "schema_version": 3,
     "solution": true,
     "task": false
    }
   },
   "outputs": [
    {
     "name": "stdout",
     "output_type": "stream",
     "text": [
      "Initial Concentration:  10.0\n"
     ]
    },
    {
     "data": {
      "text/plain": [
       "<Figure size 432x288 with 0 Axes>"
      ]
     },
     "metadata": {},
     "output_type": "display_data"
    }
   ],
   "source": [
    "import numpy as np\n",
    "import matplotlib.pyplot as plt\n",
    "import matplotlib.animation as animation\n",
    "from scipy.optimize import curve_fit\n",
    "import matplotlib.pyplot as plt2\n",
    "import numpy as np\n",
    "from IPython.display import HTML\n",
    "import copy\n",
    "\n",
    "\"\"\"\n",
    "This project generates an animation of a liquid spreading in a fluid.\n",
    "It initially generates constants, then uses a for loop to iterate upon the data.\n",
    "\n",
    "it then fits the spread of the fluid with a gaussian distribution, then plots dstd/dt\n",
    "then, shows that concentrations remains constant over time.\n",
    "\n",
    "\"\"\"\n",
    "\n",
    "# Constants:\n",
    "L = 1  # Size of 'box'\n",
    "D = 1e-3\n",
    "# We will include the phantom grid perimeter in our number of points\n",
    "# to minimize additional complicated bookkeeping\n",
    "N = 101\n",
    "\n",
    "dx = L/N\n",
    "dy = L/N\n",
    "\n",
    "dt = 1e-2\n",
    "\n",
    "tmax = 100\n",
    "steps = int(tmax / dt) + 1\n",
    "\n",
    "# Create initial conditions:\n",
    "C = np.zeros((N, N))\n",
    "\n",
    "C[N//2, N//2] = 10\n",
    "\n",
    "# Set particles in a blob in the center:\n",
    "\n",
    "# Our initial number of particles is the sum of C across\n",
    "# all of our non-phantom grid points\n",
    "isum = np.sum(C[1:-1, 1:-1])\n",
    "K = dt / dx / dy * D\n",
    "\n",
    "\n",
    "# C-prime (the concentrations after each time step)\n",
    "Cp = np.zeros((N, N))\n",
    "\n",
    "# Animation stuff\n",
    "frames = int(0.2 / dt)  # Every 0.2s\n",
    "fig = plt.figure()  # Create a new figure\n",
    "ims = []  # List to store our grids of random numbers\n",
    "name = \"timelapse.webm\"\n",
    "\n",
    "# Part 3 things\n",
    "x = np.linspace(0, L, N)\n",
    "plotsteps = np.asarray(np.linspace(\n",
    "    np.sqrt(0.01), np.sqrt(10), 30)**2/dt, dtype='int')\n",
    "plottimes = plotsteps*dt\n",
    "\n",
    "# From https://www.geeksforgeeks.org/python-gaussian-fit/\n",
    "def gauss(x, A, sigma):\n",
    "    \"\"\"Gaussian fitting function, returns G(x,A,sigma)\"\"\"\n",
    "    return A * np.exp(-(x - L/2) ** 2 / (2 * sigma ** 2))\n",
    "\n",
    "\n",
    "# Part 4 things\n",
    "concentrations = []\n",
    "\n",
    "\n",
    "sigmas = []\n",
    "guesses = (4, 1)\n",
    "\n",
    "# Printing total concentration\n",
    "print(\"Initial Concentration: \", np.sum(C))\n"
   ]
  },
  {
   "cell_type": "code",
   "execution_count": 2,
   "metadata": {},
   "outputs": [
    {
     "ename": "KeyboardInterrupt",
     "evalue": "",
     "output_type": "error",
     "traceback": [
      "\u001b[0;31m---------------------------------------------------------------------------\u001b[0m",
      "\u001b[0;31mKeyboardInterrupt\u001b[0m                         Traceback (most recent call last)",
      "\u001b[1;32m/Users/jadenmajid/Documents/Code/python/210-Projects/project05.ipynb Cell 3\u001b[0m in \u001b[0;36m<cell line: 1>\u001b[0;34m()\u001b[0m\n\u001b[1;32m      <a href='vscode-notebook-cell:/Users/jadenmajid/Documents/Code/python/210-Projects/project05.ipynb#W2sZmlsZQ%3D%3D?line=2'>3</a>\u001b[0m \u001b[39mfor\u001b[39;00m j \u001b[39min\u001b[39;00m \u001b[39mrange\u001b[39m(N \u001b[39m-\u001b[39m \u001b[39m2\u001b[39m):\n\u001b[1;32m      <a href='vscode-notebook-cell:/Users/jadenmajid/Documents/Code/python/210-Projects/project05.ipynb#W2sZmlsZQ%3D%3D?line=3'>4</a>\u001b[0m     \u001b[39mfor\u001b[39;00m k \u001b[39min\u001b[39;00m \u001b[39mrange\u001b[39m(N \u001b[39m-\u001b[39m \u001b[39m2\u001b[39m):\n\u001b[0;32m----> <a href='vscode-notebook-cell:/Users/jadenmajid/Documents/Code/python/210-Projects/project05.ipynb#W2sZmlsZQ%3D%3D?line=4'>5</a>\u001b[0m         Cp[j \u001b[39m+\u001b[39m \u001b[39m1\u001b[39m, k \u001b[39m+\u001b[39m \u001b[39m1\u001b[39m] \u001b[39m=\u001b[39m C[j \u001b[39m+\u001b[39;49m \u001b[39m1\u001b[39;49m, k \u001b[39m+\u001b[39;49m \u001b[39m1\u001b[39;49m] \u001b[39m+\u001b[39m (K \u001b[39m*\u001b[39m (C[j, k \u001b[39m+\u001b[39m \u001b[39m1\u001b[39m] \u001b[39m+\u001b[39m C[j \u001b[39m+\u001b[39m \u001b[39m2\u001b[39m, k \u001b[39m+\u001b[39m \u001b[39m1\u001b[39m] \u001b[39m-\u001b[39m \u001b[39m2\u001b[39m \u001b[39m*\u001b[39m C[j \u001b[39m+\u001b[39m \u001b[39m1\u001b[39m, k \u001b[39m+\u001b[39m \u001b[39m1\u001b[39m]) \u001b[39m+\u001b[39m\n\u001b[1;32m      <a href='vscode-notebook-cell:/Users/jadenmajid/Documents/Code/python/210-Projects/project05.ipynb#W2sZmlsZQ%3D%3D?line=5'>6</a>\u001b[0m                                               K \u001b[39m*\u001b[39m (C[j \u001b[39m+\u001b[39m \u001b[39m1\u001b[39m, k] \u001b[39m+\u001b[39m C[j \u001b[39m+\u001b[39m \u001b[39m1\u001b[39m, k \u001b[39m+\u001b[39m \u001b[39m2\u001b[39m] \u001b[39m-\u001b[39m \u001b[39m2\u001b[39m \u001b[39m*\u001b[39m C[j \u001b[39m+\u001b[39m \u001b[39m1\u001b[39m, k \u001b[39m+\u001b[39m \u001b[39m1\u001b[39m]))\n\u001b[1;32m      <a href='vscode-notebook-cell:/Users/jadenmajid/Documents/Code/python/210-Projects/project05.ipynb#W2sZmlsZQ%3D%3D?line=6'>7</a>\u001b[0m \u001b[39m# Boundary conditions\u001b[39;00m\n\u001b[1;32m      <a href='vscode-notebook-cell:/Users/jadenmajid/Documents/Code/python/210-Projects/project05.ipynb#W2sZmlsZQ%3D%3D?line=7'>8</a>\u001b[0m Cp[:, \u001b[39m0\u001b[39m] \u001b[39m=\u001b[39m Cp[:, \u001b[39m1\u001b[39m]\n",
      "\u001b[0;31mKeyboardInterrupt\u001b[0m: "
     ]
    },
    {
     "data": {
      "image/png": "[encoded data removed]",
      "text/plain": [
       "<Figure size 432x288 with 1 Axes>"
      ]
     },
     "metadata": {
      "needs_background": "light"
     },
     "output_type": "display_data"
    }
   ],
   "source": [
    "\n",
    "for i in range(steps):\n",
    "    # Do all the points, except the boundaries:\n",
    "    for j in range(N - 2):\n",
    "        for k in range(N - 2):\n",
    "            Cp[j + 1, k + 1] = C[j + 1, k + 1] + (K * (C[j, k + 1] + C[j + 2, k + 1] - 2 * C[j + 1, k + 1]) +\n",
    "                                                  K * (C[j + 1, k] + C[j + 1, k + 2] - 2 * C[j + 1, k + 1]))\n",
    "    # Boundary conditions\n",
    "    Cp[:, 0] = Cp[:, 1]\n",
    "    Cp[:, -1] = Cp[:, -2]\n",
    "    Cp[0, :] = Cp[1, :]\n",
    "    Cp[-1, :] = Cp[-2, :]\n",
    "\n",
    "    # Swap C and Cp so that they don't end up as the same array:\n",
    "    C, Cp = Cp, C\n",
    "    if i % frames == 0:  # Check if making frame or not\n",
    "        ims.append((plt.pcolormesh(C, cmap=\"magma\"), ))\n",
    "        # print(i/frames)\n",
    "\n",
    "    # Gathering data for part 3\n",
    "    if i in plotsteps:\n",
    "        popt, pcov = curve_fit(gauss, x, C[:, N//2], p0=guesses)\n",
    "        sigmas.append(popt[1])\n",
    "        guesses = popt\n",
    "\n",
    "    # Gathering data for part 4\n",
    "    concentrations.append(np.sum(C[1:-1, 1:-1]))\n",
    "\n",
    "\n",
    "# Generating animation\n",
    "imani = animation.ArtistAnimation(\n",
    "    fig,  # Not used here, but would be needed for resizing, etc\n",
    "    ims,  # The list to animate\n",
    "    interval=60,  # Time between frames in ms\n",
    "    repeat=False,  # Repeat not used here. Useful in later projects\n",
    ")\n",
    "\n",
    "# Save file\n",
    "imani.save(name, extra_args=['-vcodec', 'libvpx'])\n",
    "plt.close()  # Prevents a stray plot from appearing\n",
    "del ims  # Release crucial Cocal memory related to these objects\n",
    "del imani  #\n",
    "\n",
    "print(\"Final Concentration: \", np.sum(C[1:-1, 1:-1]))"
   ]
  },
  {
   "cell_type": "code",
   "execution_count": null,
   "metadata": {},
   "outputs": [
    {
     "data": {
      "text/html": [
       "<video controls> <source src=\"timelapse.webm\" type=\"video/webm\"> </video>"
      ],
      "text/plain": [
       "<IPython.core.display.HTML object>"
      ]
     },
     "execution_count": 3,
     "metadata": {},
     "output_type": "execute_result"
    }
   ],
   "source": [
    "HTML('<video controls> <source src=\"timelapse.webm\" type=\"video/webm\"> '\n",
    "     '</video>')\n"
   ]
  },
  {
   "cell_type": "code",
   "execution_count": null,
   "metadata": {},
   "outputs": [
    {
     "data": {
      "image/png": "[encoded data removed]",
      "text/plain": [
       "<Figure size 432x288 with 1 Axes>"
      ]
     },
     "metadata": {
      "needs_background": "light"
     },
     "output_type": "display_data"
    }
   ],
   "source": [
    "# Part 3\n",
    "xs = np.linspace(0, 10, 100)\n",
    "\n",
    "# Plotting part 3\n",
    "plt2.plot(np.sqrt(plottimes), -1*np.array(sigmas),\n",
    "          'bx', label=\"Simulation Data\")\n",
    "plt2.plot(np.sqrt(xs), np.sqrt(2*D*xs), label=\"Theory\")\n",
    "\n",
    "plt2.xlabel('sqrt(Time)')\n",
    "plt2.ylabel('Standard Deviation of fitted gauss')\n",
    "\n",
    "plt2.legend()\n",
    "plt2.show()\n"
   ]
  },
  {
   "cell_type": "code",
   "execution_count": null,
   "metadata": {},
   "outputs": [
    {
     "name": "stdout",
     "output_type": "stream",
     "text": [
      "Initial Concentration:  10.0\n"
     ]
    },
    {
     "data": {
      "text/plain": [
       "<Figure size 432x288 with 0 Axes>"
      ]
     },
     "metadata": {},
     "output_type": "display_data"
    }
   ],
   "source": [
    "import numpy as np\n",
    "import matplotlib.pyplot as plt\n",
    "import matplotlib.animation as animation\n",
    "from scipy.optimize import curve_fit\n",
    "import matplotlib.pyplot as plt2\n",
    "import numpy as np\n",
    "from IPython.display import HTML\n",
    "import copy\n",
    "\"\"\"\n",
    "This project generates an animation of a liquid spreading in a fluid.\n",
    "It initially generates constants, then uses a for loop to iterate upon the data.\n",
    "\n",
    "it then fits the spread of the fluid with a gaussian distribution, then\n",
    "plots dstd/dt then, shows that concentrations remains constant over time.\n",
    "\"\"\"\n",
    "\n",
    "# Constants:\n",
    "L = 1  # Size of 'box'\n",
    "D = 1e-3\n",
    "# We will include the phantom grid perimeter in our number of points\n",
    "# to minimize additional complicated bookkeeping\n",
    "N = 101\n",
    "\n",
    "dx = L / N\n",
    "dy = L / N\n",
    "\n",
    "dt = 1e-2\n",
    "\n",
    "tmax = 100\n",
    "steps = int(tmax / dt) + 1\n",
    "\n",
    "# Create initial conditions:\n",
    "C = np.zeros((N, N))\n",
    "\n",
    "C[N // 2, N // 2] = 10\n",
    "\n",
    "# Set particles in a blob in the center:\n",
    "\n",
    "# Our initial number of particles is the sum of C across\n",
    "# all of our non-phantom grid points\n",
    "isum = np.sum(C[1:-1, 1:-1])\n",
    "K = dt / dx / dy * D\n",
    "\n",
    "# C-prime (the concentrations after each time step)\n",
    "Cp = np.zeros((N, N))\n",
    "\n",
    "# Animation stuff\n",
    "frames = int(0.2 / dt)  # Every 0.2s\n",
    "fig = plt.figure()  # Create a new figure\n",
    "ims = []  # List to store our grids of random numbers\n",
    "name = \"timelapse.webm\"\n",
    "\n",
    "# Part 3 things\n",
    "x = np.linspace(0, L, N)\n",
    "plotsteps = np.asarray(np.linspace(np.sqrt(0.01), np.sqrt(10), 30)**2 / dt,\n",
    "                       dtype='int')\n",
    "plottimes = plotsteps * dt\n",
    "\n",
    "\n",
    "# From https://www.geeksforgeeks.org/python-gaussian-fit/\n",
    "def gauss(x, A, sigma):\n",
    "    \"\"\"Gaussian fitting function, returns G(x,A,sigma)\"\"\"\n",
    "    return A * np.exp(-(x - L / 2)**2 / (2 * sigma**2))\n",
    "\n",
    "\n",
    "# Part 4 things\n",
    "concentrations = []\n",
    "\n",
    "sigmas = []\n",
    "guesses = (4, 1)\n",
    "\n",
    "# Printing total concentration\n",
    "print(\"Initial Concentration: \", np.sum(C))"
   ]
  },
  {
   "cell_type": "code",
   "execution_count": null,
   "metadata": {
    "collapsed": false,
    "deletable": false,
    "nbgrader": {
     "cell_type": "code",
     "checksum": "4c13e61d9dae147dc0f558b1259f122c",
     "grade": true,
     "grade_id": "cell-project5-3",
     "locked": false,
     "points": 0,
     "schema_version": 3,
     "solution": true,
     "task": false
    }
   },
   "outputs": [
    {
     "ename": "ValueError",
     "evalue": "x and y must have same first dimension, but have shapes (10001,) and (0,)",
     "output_type": "error",
     "traceback": [
      "\u001b[0;31m---------------------------------------------------------------------------\u001b[0m",
      "\u001b[0;31mValueError\u001b[0m                                Traceback (most recent call last)",
      "\u001b[1;32m/Users/jadenmajid/Documents/University/2nd Year/T2/PHYS 229/Experiment 2/210-Projects/project05.ipynb Cell 7\u001b[0m in \u001b[0;36m<cell line: 7>\u001b[0;34m()\u001b[0m\n\u001b[1;32m      <a href='vscode-notebook-cell:/Users/jadenmajid/Documents/University/2nd%20Year/T2/PHYS%20229/Experiment%202/210-Projects/project05.ipynb#W6sZmlsZQ%3D%3D?line=0'>1</a>\u001b[0m \u001b[39m# Plot of particle count (sum of non-phantom C) vs t here:\u001b[39;00m\n\u001b[1;32m      <a href='vscode-notebook-cell:/Users/jadenmajid/Documents/University/2nd%20Year/T2/PHYS%20229/Experiment%202/210-Projects/project05.ipynb#W6sZmlsZQ%3D%3D?line=1'>2</a>\u001b[0m \u001b[39m# YOUR CODE HERE\u001b[39;00m\n\u001b[1;32m      <a href='vscode-notebook-cell:/Users/jadenmajid/Documents/University/2nd%20Year/T2/PHYS%20229/Experiment%202/210-Projects/project05.ipynb#W6sZmlsZQ%3D%3D?line=2'>3</a>\u001b[0m \u001b[39m# raise NotImplementedError()\u001b[39;00m\n\u001b[1;32m      <a href='vscode-notebook-cell:/Users/jadenmajid/Documents/University/2nd%20Year/T2/PHYS%20229/Experiment%202/210-Projects/project05.ipynb#W6sZmlsZQ%3D%3D?line=4'>5</a>\u001b[0m t \u001b[39m=\u001b[39m np\u001b[39m.\u001b[39mlinspace(\u001b[39m0\u001b[39m, tmax, steps)\n\u001b[0;32m----> <a href='vscode-notebook-cell:/Users/jadenmajid/Documents/University/2nd%20Year/T2/PHYS%20229/Experiment%202/210-Projects/project05.ipynb#W6sZmlsZQ%3D%3D?line=6'>7</a>\u001b[0m plt2\u001b[39m.\u001b[39;49mplot(t, concentrations,\n\u001b[1;32m      <a href='vscode-notebook-cell:/Users/jadenmajid/Documents/University/2nd%20Year/T2/PHYS%20229/Experiment%202/210-Projects/project05.ipynb#W6sZmlsZQ%3D%3D?line=7'>8</a>\u001b[0m           \u001b[39m'\u001b[39;49m\u001b[39m-\u001b[39;49m\u001b[39m'\u001b[39;49m, label\u001b[39m=\u001b[39;49m\u001b[39m\"\u001b[39;49m\u001b[39mConcentration Sum\u001b[39;49m\u001b[39m\"\u001b[39;49m)\n\u001b[1;32m     <a href='vscode-notebook-cell:/Users/jadenmajid/Documents/University/2nd%20Year/T2/PHYS%20229/Experiment%202/210-Projects/project05.ipynb#W6sZmlsZQ%3D%3D?line=9'>10</a>\u001b[0m plt2\u001b[39m.\u001b[39mxlabel(\u001b[39m'\u001b[39m\u001b[39mTime(s)\u001b[39m\u001b[39m'\u001b[39m)\n\u001b[1;32m     <a href='vscode-notebook-cell:/Users/jadenmajid/Documents/University/2nd%20Year/T2/PHYS%20229/Experiment%202/210-Projects/project05.ipynb#W6sZmlsZQ%3D%3D?line=10'>11</a>\u001b[0m plt2\u001b[39m.\u001b[39mylabel(\u001b[39m'\u001b[39m\u001b[39mConcentration\u001b[39m\u001b[39m'\u001b[39m)\n",
      "File \u001b[0;32m~/opt/anaconda3/lib/python3.9/site-packages/matplotlib/pyplot.py:2757\u001b[0m, in \u001b[0;36mplot\u001b[0;34m(scalex, scaley, data, *args, **kwargs)\u001b[0m\n\u001b[1;32m   2755\u001b[0m \u001b[39m@_copy_docstring_and_deprecators\u001b[39m(Axes\u001b[39m.\u001b[39mplot)\n\u001b[1;32m   2756\u001b[0m \u001b[39mdef\u001b[39;00m \u001b[39mplot\u001b[39m(\u001b[39m*\u001b[39margs, scalex\u001b[39m=\u001b[39m\u001b[39mTrue\u001b[39;00m, scaley\u001b[39m=\u001b[39m\u001b[39mTrue\u001b[39;00m, data\u001b[39m=\u001b[39m\u001b[39mNone\u001b[39;00m, \u001b[39m*\u001b[39m\u001b[39m*\u001b[39mkwargs):\n\u001b[0;32m-> 2757\u001b[0m     \u001b[39mreturn\u001b[39;00m gca()\u001b[39m.\u001b[39;49mplot(\n\u001b[1;32m   2758\u001b[0m         \u001b[39m*\u001b[39;49margs, scalex\u001b[39m=\u001b[39;49mscalex, scaley\u001b[39m=\u001b[39;49mscaley,\n\u001b[1;32m   2759\u001b[0m         \u001b[39m*\u001b[39;49m\u001b[39m*\u001b[39;49m({\u001b[39m\"\u001b[39;49m\u001b[39mdata\u001b[39;49m\u001b[39m\"\u001b[39;49m: data} \u001b[39mif\u001b[39;49;00m data \u001b[39mis\u001b[39;49;00m \u001b[39mnot\u001b[39;49;00m \u001b[39mNone\u001b[39;49;00m \u001b[39melse\u001b[39;49;00m {}), \u001b[39m*\u001b[39;49m\u001b[39m*\u001b[39;49mkwargs)\n",
      "File \u001b[0;32m~/opt/anaconda3/lib/python3.9/site-packages/matplotlib/axes/_axes.py:1632\u001b[0m, in \u001b[0;36mAxes.plot\u001b[0;34m(self, scalex, scaley, data, *args, **kwargs)\u001b[0m\n\u001b[1;32m   1390\u001b[0m \u001b[39m\"\"\"\u001b[39;00m\n\u001b[1;32m   1391\u001b[0m \u001b[39mPlot y versus x as lines and/or markers.\u001b[39;00m\n\u001b[1;32m   1392\u001b[0m \n\u001b[0;32m   (...)\u001b[0m\n\u001b[1;32m   1629\u001b[0m \u001b[39m(``'green'``) or hex strings (``'#008000'``).\u001b[39;00m\n\u001b[1;32m   1630\u001b[0m \u001b[39m\"\"\"\u001b[39;00m\n\u001b[1;32m   1631\u001b[0m kwargs \u001b[39m=\u001b[39m cbook\u001b[39m.\u001b[39mnormalize_kwargs(kwargs, mlines\u001b[39m.\u001b[39mLine2D)\n\u001b[0;32m-> 1632\u001b[0m lines \u001b[39m=\u001b[39m [\u001b[39m*\u001b[39m\u001b[39mself\u001b[39m\u001b[39m.\u001b[39m_get_lines(\u001b[39m*\u001b[39margs, data\u001b[39m=\u001b[39mdata, \u001b[39m*\u001b[39m\u001b[39m*\u001b[39mkwargs)]\n\u001b[1;32m   1633\u001b[0m \u001b[39mfor\u001b[39;00m line \u001b[39min\u001b[39;00m lines:\n\u001b[1;32m   1634\u001b[0m     \u001b[39mself\u001b[39m\u001b[39m.\u001b[39madd_line(line)\n",
      "File \u001b[0;32m~/opt/anaconda3/lib/python3.9/site-packages/matplotlib/axes/_base.py:312\u001b[0m, in \u001b[0;36m_process_plot_var_args.__call__\u001b[0;34m(self, data, *args, **kwargs)\u001b[0m\n\u001b[1;32m    310\u001b[0m     this \u001b[39m+\u001b[39m\u001b[39m=\u001b[39m args[\u001b[39m0\u001b[39m],\n\u001b[1;32m    311\u001b[0m     args \u001b[39m=\u001b[39m args[\u001b[39m1\u001b[39m:]\n\u001b[0;32m--> 312\u001b[0m \u001b[39myield from\u001b[39;00m \u001b[39mself\u001b[39;49m\u001b[39m.\u001b[39;49m_plot_args(this, kwargs)\n",
      "File \u001b[0;32m~/opt/anaconda3/lib/python3.9/site-packages/matplotlib/axes/_base.py:498\u001b[0m, in \u001b[0;36m_process_plot_var_args._plot_args\u001b[0;34m(self, tup, kwargs, return_kwargs)\u001b[0m\n\u001b[1;32m    495\u001b[0m     \u001b[39mself\u001b[39m\u001b[39m.\u001b[39maxes\u001b[39m.\u001b[39myaxis\u001b[39m.\u001b[39mupdate_units(y)\n\u001b[1;32m    497\u001b[0m \u001b[39mif\u001b[39;00m x\u001b[39m.\u001b[39mshape[\u001b[39m0\u001b[39m] \u001b[39m!=\u001b[39m y\u001b[39m.\u001b[39mshape[\u001b[39m0\u001b[39m]:\n\u001b[0;32m--> 498\u001b[0m     \u001b[39mraise\u001b[39;00m \u001b[39mValueError\u001b[39;00m(\u001b[39mf\u001b[39m\u001b[39m\"\u001b[39m\u001b[39mx and y must have same first dimension, but \u001b[39m\u001b[39m\"\u001b[39m\n\u001b[1;32m    499\u001b[0m                      \u001b[39mf\u001b[39m\u001b[39m\"\u001b[39m\u001b[39mhave shapes \u001b[39m\u001b[39m{\u001b[39;00mx\u001b[39m.\u001b[39mshape\u001b[39m}\u001b[39;00m\u001b[39m and \u001b[39m\u001b[39m{\u001b[39;00my\u001b[39m.\u001b[39mshape\u001b[39m}\u001b[39;00m\u001b[39m\"\u001b[39m)\n\u001b[1;32m    500\u001b[0m \u001b[39mif\u001b[39;00m x\u001b[39m.\u001b[39mndim \u001b[39m>\u001b[39m \u001b[39m2\u001b[39m \u001b[39mor\u001b[39;00m y\u001b[39m.\u001b[39mndim \u001b[39m>\u001b[39m \u001b[39m2\u001b[39m:\n\u001b[1;32m    501\u001b[0m     \u001b[39mraise\u001b[39;00m \u001b[39mValueError\u001b[39;00m(\u001b[39mf\u001b[39m\u001b[39m\"\u001b[39m\u001b[39mx and y can be no greater than 2D, but have \u001b[39m\u001b[39m\"\u001b[39m\n\u001b[1;32m    502\u001b[0m                      \u001b[39mf\u001b[39m\u001b[39m\"\u001b[39m\u001b[39mshapes \u001b[39m\u001b[39m{\u001b[39;00mx\u001b[39m.\u001b[39mshape\u001b[39m}\u001b[39;00m\u001b[39m and \u001b[39m\u001b[39m{\u001b[39;00my\u001b[39m.\u001b[39mshape\u001b[39m}\u001b[39;00m\u001b[39m\"\u001b[39m)\n",
      "\u001b[0;31mValueError\u001b[0m: x and y must have same first dimension, but have shapes (10001,) and (0,)"
     ]
    },
    {
     "data": {
      "image/png": "[encoded data removed]",
      "text/plain": [
       "<Figure size 432x288 with 1 Axes>"
      ]
     },
     "metadata": {
      "needs_background": "light"
     },
     "output_type": "display_data"
    }
   ],
   "source": [
    "# Plot of particle count (sum of non-phantom C) vs t here:\n",
    "# YOUR CODE HERE\n",
    "# raise NotImplementedError()\n",
    "\n",
    "t = np.linspace(0, tmax, steps)\n",
    "\n",
    "plt2.plot(t, concentrations,\n",
    "          '-', label=\"Concentration Sum\")\n",
    "\n",
    "plt2.xlabel('Time(s)')\n",
    "plt2.ylabel('Concentration')\n",
    "\n",
    "plt2.legend()\n",
    "plt2.show()\n"
   ]
  },
  {
   "cell_type": "markdown",
   "metadata": {
    "collapsed": false,
    "deletable": false,
    "nbgrader": {
     "cell_type": "markdown",
     "checksum": "d9113006d46465afb31bf32b6cd8da89",
     "grade": true,
     "grade_id": "cell-project5-4",
     "locked": false,
     "points": 0,
     "schema_version": 3,
     "solution": true,
     "task": false
    }
   },
   "source": [
    "### Your answers to text questions for Part 5 questions here. There is an ungraded, un-timed and not-style-checked cell below for you to do your work for anwering these questions\n",
    "\n",
    "Answer the following questions in the space provided in this cell.\n",
    "\n",
    "**5a)** What happens to the animation when dt is too large?\n",
    "\n",
    "**5b)** What is the value of dt where the simulation diverges?\n",
    "\n",
    "**5c)** What is the value of $dt \\, D/dx^2$ where the simulation starts to diverge?\n",
    "\n",
    "**5d)** What happens to the sums you generate for question (4) when the simulation diverges?\n",
    "\n",
    "**5e)** If you use a grid of only 51x51 points, where is the threshold for dt to converge now?\n",
    "\n",
    "YOUR ANSWER HERE\n"
   ]
  },
  {
   "cell_type": "code",
   "execution_count": 3,
   "metadata": {
    "collapsed": false,
    "deletable": false,
    "nbgrader": {
     "cell_type": "code",
     "checksum": "725daaa64359a82e4d255836a708c236",
     "grade": true,
     "grade_id": "cell-project5-5",
     "locked": false,
     "points": 0,
     "schema_version": 3,
     "solution": true,
     "task": false
    }
   },
   "outputs": [
    {
     "name": "stdout",
     "output_type": "stream",
     "text": [
      "Initial Concentration:  10.0\n",
      "0.70344831076\n",
      "-0.8077826296302042\n",
      "1.0961985837632502\n",
      "-1.7813776739112912\n",
      "3.111550613583614\n",
      "-5.717776912556347\n",
      "10.843108001482742\n",
      "-21.05278394081073\n",
      "41.590953697006746\n",
      "-83.29640879810214\n",
      "168.65045510027255\n",
      "-344.5390699212282\n",
      "709.1381439113874\n",
      "-1468.8273667054057\n",
      "3058.91357579771\n",
      "-6400.412765150452\n",
      "13447.411789535747\n",
      "-28356.318619835856\n",
      "59988.30367554672\n",
      "-127274.55634456454\n",
      "270738.212504558\n",
      "-577275.3183784769\n",
      "1233527.9421023289\n",
      "-2640989.8190010395\n",
      "5664549.900318428\n",
      "-12169778.688094527\n",
      "26185648.2599911\n",
      "-56423264.02152363\n",
      "121737212.09963784\n",
      "-262977913.87934676\n",
      "568735512.139258\n",
      "-1231301143.9040842\n",
      "2668404874.3660684\n",
      "-5788231231.893935\n",
      "12566726716.991592\n",
      "-27305997868.638466\n",
      "59378976129.02799\n",
      "-129219150365.36534\n",
      "281399115809.3034\n",
      "-613202115695.2781\n",
      "1337070023404.7678\n",
      "-2917156909347.5137\n",
      "6368058093261.392\n",
      "-13908590796164.057\n",
      "30393183495709.375\n",
      "-66446937107436.49\n",
      "145334547575755.84\n",
      "-318015205046690.7\n",
      "696149617443630.1\n",
      "-1524488111401847.0\n",
      "3339671797249417.5\n",
      "-7318697893545300.0\n",
      "1.6043774268767122e+16\n",
      "-3.518153263460702e+16\n",
      "7.71705547999968e+16\n",
      "Final Concentration:  672.0\n"
     ]
    },
    {
     "data": {
      "text/html": [
       "<video controls> <source src=\"timelapse2.webm\" type=\"video/webm\"> </video>"
      ],
      "text/plain": [
       "<IPython.core.display.HTML object>"
      ]
     },
     "execution_count": 3,
     "metadata": {},
     "output_type": "execute_result"
    }
   ],
   "source": [
    "# Experiment with dt here (this code will not be assessed in any way)\n",
    "# Create initial conditions:\n",
    "\"\"\"\n",
    "5a) it begins to flicker, likely due to the switching between C and Cp\n",
    "5b) my simulation begins to diverge at values greater than 2.5e-2\n",
    "5c) it begins to diverge to infinity\n",
    "5d) it approaches infinity\n",
    "5e) it does not change, still 2.5e-2\n",
    "\n",
    "\n",
    "\"\"\"\n",
    "dt = 2.6e-2\n",
    "N = 51\n",
    "\n",
    "tmax = 10\n",
    "steps = int(tmax / dt) + 1\n",
    "\n",
    "C = np.zeros((N, N))\n",
    "\n",
    "C[N//2, N//2] = 10\n",
    "\n",
    "# Set particles in a blob in the center:\n",
    "\n",
    "# Our initial number of particles is the sum of C across\n",
    "# all of our non-phantom grid points\n",
    "isum = np.sum(C[1:-1, 1:-1])\n",
    "K = dt / dx / dy * D\n",
    "\n",
    "\n",
    "# C-prime (the concentrations after each time step)\n",
    "Cp = np.zeros((N, N))\n",
    "\n",
    "# Animation stuff\n",
    "frames = int(0.2 / dt)  # Every 0.2s\n",
    "fig = plt.figure()  # Create a new figure\n",
    "ims = []  # List to store our grids of random numbers\n",
    "name = \"timelapse2.webm\"\n",
    "\n",
    "# Printing total concentration\n",
    "print(\"Initial Concentration: \", np.sum(C))\n",
    "\n",
    "for i in range(steps):\n",
    "    # Do all the points, except the boundaries:\n",
    "    for j in range(N - 2):\n",
    "        for k in range(N - 2):\n",
    "            Cp[j + 1, k + 1] = C[j + 1, k + 1] + (K * (C[j, k + 1] + C[j + 2, k + 1] - 2 * C[j + 1, k + 1]) +\n",
    "                                                  K * (C[j + 1, k] + C[j + 1, k + 2] - 2 * C[j + 1, k + 1]))\n",
    "\n",
    "    # Boundary conditions\n",
    "    Cp[:, 0] = Cp[:, 1]\n",
    "    Cp[:, -1] = Cp[:, -2]\n",
    "    Cp[0, :] = Cp[1, :]\n",
    "    Cp[-1, :] = Cp[-2, :]\n",
    "\n",
    "    # Swap C and Cp so that they don't end up as the same array:\n",
    "    C, Cp = Cp, C\n",
    "\n",
    "    if i % frames == 0:  # Check if making frame or not\n",
    "        ims.append((plt.pcolormesh(C, ), ))\n",
    "        print(K * (C[N//2, N//2 + 1] +\n",
    "              C[N//2 + 2, N//2 + 1] - 2 * C[N//2 + 1, N//2 + 1]))\n",
    "        # print(i/frames)\n",
    "\n",
    "\n",
    "# Generating animation\n",
    "imani = animation.ArtistAnimation(\n",
    "    fig,  # Not used here, but would be needed for resizing, etc\n",
    "    ims,  # The list to animate\n",
    "    interval=60,  # Time between frames in ms\n",
    "    repeat=False,  # Repeat not used here. Useful in later projects\n",
    ")\n",
    "# Save file\n",
    "imani.save(name, extra_args=['-vcodec', 'libvpx'])\n",
    "plt.close()  # Prevents a stray plot from appearing\n",
    "del ims  # Release crucial Cocal memory related to these objects\n",
    "del imani  #\n",
    "\n",
    "print(\"Final Concentration: \", np.sum(C[1:-1, 1:-1]))\n",
    "\n",
    "HTML('<video controls> <source src=\"timelapse2.webm\" type=\"video/webm\"> '\n",
    "     '</video>')\n"
   ]
  },
  {
   "cell_type": "markdown",
   "metadata": {
    "collapsed": false,
    "deletable": false,
    "editable": false,
    "nbgrader": {
     "grade": false,
     "grade_id": "cf5dfa",
     "locked": true,
     "schema_version": 3,
     "solution": false,
     "task": false
    }
   },
   "source": [
    "# Acknowledgements\n",
    "\n",
    "In the cell below, please describe the role of **anyone other than yourself** who contributed to the work shown in this notebook.\n",
    "\n",
    "Its ok to get help from us and classmates! Please get in the habit of acknowledging such contributions.\n",
    "\n",
    "If you want to refer to a classmate, please use only their cocalc email-id and not their name - or you could just say something like: \"a classmate gave me the idea to use xxx feature to solve yyy problem.\"\n"
   ]
  },
  {
   "cell_type": "markdown",
   "metadata": {
    "collapsed": false
   },
   "source": [
    "_Acknowledgements here:_\n"
   ]
  },
  {
   "cell_type": "markdown",
   "metadata": {
    "collapsed": false,
    "deletable": false,
    "editable": false,
    "nbgrader": {
     "grade": false,
     "grade_id": "5a51c40",
     "locked": true,
     "schema_version": 3,
     "solution": false,
     "task": false
    }
   },
   "source": [
    "# Extension Code and Description\n",
    "\n",
    "All solution code for the main project question should appear in the two main cells above above. Project extensions go in the cell \"cell-extension\" immediately below and the descriptions of your extension go in the cell below that.\n"
   ]
  },
  {
   "cell_type": "code",
   "execution_count": 8,
   "metadata": {
    "collapsed": false,
    "deletable": false,
    "nbgrader": {
     "cell_type": "code",
     "checksum": "887dd39afb49072de92ec16acce3a808",
     "grade": true,
     "grade_id": "cell-extension",
     "locked": false,
     "points": 3,
     "schema_version": 3,
     "solution": true,
     "task": false
    }
   },
   "outputs": [
    {
     "name": "stdout",
     "output_type": "stream",
     "text": [
      "Initial Concentration:  10.0\n",
      "Final Concentration:  10.0\n"
     ]
    },
    {
     "data": {
      "text/html": [
       "<video controls> <source src=\"timelapse3.webm\" type=\"video/webm\"> </video>"
      ],
      "text/plain": [
       "<IPython.core.display.HTML object>"
      ]
     },
     "execution_count": 8,
     "metadata": {},
     "output_type": "execute_result"
    }
   ],
   "source": [
    "# OPTIONAL project extension here\n",
    "# These can call functions in your code above if desired\n",
    "\"\"\"\n",
    "This extension isnt too complicated, its just creating a new plot with random\n",
    "points and concentrations\n",
    "\"\"\"\n",
    "dt = 1e-2\n",
    "N = 51\n",
    "\n",
    "tmax = 20\n",
    "steps = int(tmax / dt) + 1\n",
    "\n",
    "C = np.zeros((N, N))\n",
    "for i in range(4):\n",
    "\n",
    "    j = np.random.randint(0, N)\n",
    "    k = np.random.randint(0, N)\n",
    "    c = np.random.randint(50)\n",
    "    C[j, k] = c\n",
    "# C[N//2, N//2] = 10\n",
    "# Set particles n a blob in the center:\n",
    "\n",
    "# Our initial number of particles is the sum of C across\n",
    "# all of our non-phantom grid points\n",
    "isum = np.sum(C[1:-1, 1:-1])\n",
    "K = dt / dx / dy * D\n",
    "\n",
    "\n",
    "# C-prime (the concentrations after each time step)\n",
    "Cp = np.zeros((N, N))\n",
    "\n",
    "# Animation stuff\n",
    "frames = int(0.2 / dt)  # Every 0.2s\n",
    "fig = plt.figure()  # Create a new figure\n",
    "ims = []  # List to store our grids of random numbers\n",
    "name = \"timelapse3.webm\"\n",
    "\n",
    "# Printing total concentration\n",
    "print(\"Initial Concentration: \", np.sum(C))\n",
    "\n",
    "for i in range(steps):\n",
    "    # Do all the points, except the boundaries:\n",
    "    for j in range(N - 2):\n",
    "        for k in range(N - 2):\n",
    "            Cp[j + 1, k + 1] = C[j + 1, k + 1] + (K * (C[j, k + 1] + C[j + 2, k + 1] - 2 * C[j + 1, k + 1]) +\n",
    "                                                  K * (C[j + 1, k] + C[j + 1, k + 2] - 2 * C[j + 1, k + 1]))\n",
    "\n",
    "    # Boundary conditions\n",
    "    Cp[:, 0] = Cp[:, 1]\n",
    "    Cp[:, -1] = Cp[:, -2]\n",
    "    Cp[0, :] = Cp[1, :]\n",
    "    Cp[-1, :] = Cp[-2, :]\n",
    "\n",
    "    # Swap C and Cp so that they don't end up as the same array:\n",
    "    C, Cp = Cp, C\n",
    "\n",
    "    if i % frames == 0:  # Check if making frame or not\n",
    "        ims.append((plt.pcolormesh(C, ), ))\n",
    "\n",
    "\n",
    "# Generating animation\n",
    "imani = animation.ArtistAnimation(\n",
    "    fig,  # Not used here, but would be needed for resizing, etc\n",
    "    ims,  # The list to animate\n",
    "    interval=60,  # Time between frames in ms\n",
    "    repeat=False,  # Repeat not used here. Useful in later projects\n",
    ")\n",
    "# Save file\n",
    "imani.save(name, extra_args=['-vcodec', 'libvpx'])\n",
    "plt.close()  # Prevents a stray plot from appearing\n",
    "del ims  # Release crucial Cocal memory related to these objects\n",
    "del imani  #\n",
    "\n",
    "print(\"Final Concentration: \", np.sum(C[1:-1, 1:-1]))\n",
    "\n",
    "HTML('<video controls> <source src=\"timelapse3.webm\" type=\"video/webm\"> '\n",
    "     '</video>')"
   ]
  },
  {
   "cell_type": "markdown",
   "metadata": {
    "collapsed": false
   },
   "source": [
    "_In this cell, please describe any new language features or project extension you have implemented:_\n"
   ]
  },
  {
   "cell_type": "markdown",
   "metadata": {
    "collapsed": false,
    "deletable": false,
    "editable": false,
    "nbgrader": {
     "grade": false,
     "grade_id": "grading-header",
     "locked": true,
     "schema_version": 3,
     "solution": false,
     "task": false
    }
   },
   "source": [
    "# Grading cells\n",
    "\n",
    "The cells below marked as \"grade use only\" are created as placeholders so that we can provide a manual grade and comments for each category.\n",
    "\n",
    "Exceptions are the \"2. Style\" test, which has an associated autograder test that you can run to check style and the timing cell \"cell-optimization0\", which you can use to test your code execution time.\n"
   ]
  },
  {
   "cell_type": "code",
   "execution_count": null,
   "metadata": {
    "collapsed": false,
    "deletable": false,
    "nbgrader": {
     "cell_type": "code",
     "checksum": "5fddc8dcc07404068c6f34898e8762c9",
     "grade": true,
     "grade_id": "cell-executes",
     "locked": false,
     "points": 20,
     "schema_version": 3,
     "solution": true,
     "task": false
    }
   },
   "outputs": [],
   "source": [
    "# 1. Code execution (grader use only)\n"
   ]
  },
  {
   "cell_type": "code",
   "execution_count": null,
   "metadata": {
    "collapsed": false,
    "deletable": false,
    "editable": false,
    "nbgrader": {
     "grade": true,
     "grade_id": "cell-style",
     "locked": true,
     "points": 5,
     "schema_version": 3,
     "solution": false,
     "task": false
    }
   },
   "outputs": [
    {
     "name": "stdout",
     "output_type": "stream",
     "text": [
      "checking cell: cell-project5-1\n",
      "Style errors or warnings found:\n",
      "55:1: E302 expected 2 blank lines, found 1\n",
      "60:1: E305 expected 2 blank lines after class or function definition, found 1\n",
      "73:80: E501 line too long (109 > 79 characters)\n",
      "74:80: E501 line too long (108 > 79 characters)\n",
      "92:1: W293 blank line contains whitespace\n",
      "94:40: E231 missing whitespace after ','\n",
      "110:45: E231 missing whitespace after ','\n",
      "checking unnamed cell\n",
      "checking cell: cell-project5-3\n",
      "Style errors or warnings found:\n",
      "5:18: E231 missing whitespace after ','\n",
      "5:23: E231 missing whitespace after ','\n",
      "checking cell: cell-project5-5\n",
      "Style errors or warnings found:\n",
      "46:80: E501 line too long (109 > 79 characters)\n",
      "47:80: E501 line too long (108 > 79 characters)\n",
      "48:1: W293 blank line contains whitespace\n",
      "78:45: E231 missing whitespace after ','\n"
     ]
    },
    {
     "ename": "AssertionError",
     "evalue": "",
     "output_type": "error",
     "traceback": [
      "\u001b[0;31m---------------------------------------------------------------------------\u001b[0m",
      "\u001b[0;31mAssertionError\u001b[0m                            Traceback (most recent call last)",
      "File \u001b[0;32m~/Documents/University/2nd Year/Physics/210/Project05/check_style2.py:89\u001b[0m\n\u001b[1;32m     86\u001b[0m         errors \u001b[39m=\u001b[39m do_cell(cell) \u001b[39mor\u001b[39;00m errors\n\u001b[1;32m     88\u001b[0m \u001b[39mif\u001b[39;00m errors:\n\u001b[0;32m---> 89\u001b[0m     \u001b[39mraise\u001b[39;00m \u001b[39mAssertionError\u001b[39;00m\n",
      "\u001b[0;31mAssertionError\u001b[0m: "
     ]
    }
   ],
   "source": [
    "# 2. Style: pep8 (see note below regarding use of the Format button to fix many errors)\n",
    "#\n",
    "# Tests for pep8 returns warnings or errors. You may need to hit 'Save' after making changes for them to take effect.\n",
    "nb_name = \"project05.ipynb\"\n",
    "cells_to_check = []\n",
    "stop_at = ['cell-extension']\n",
    "# check_style2.py uses cells_to_check and nb_name\n",
    "%run -i check_style2.py\n"
   ]
  },
  {
   "cell_type": "markdown",
   "metadata": {
    "collapsed": false,
    "deletable": false,
    "editable": false,
    "nbgrader": {
     "grade": false,
     "grade_id": "87d438",
     "locked": true,
     "schema_version": 3,
     "solution": false,
     "task": false
    }
   },
   "source": [
    "Also note that you can use the Format button while in a code cell to automagically fix most pep8 errors (other than way too long print statements)\n",
    "\n",
    "![](project02-format.png)\n"
   ]
  },
  {
   "cell_type": "code",
   "execution_count": null,
   "metadata": {
    "collapsed": false,
    "deletable": false,
    "nbgrader": {
     "cell_type": "code",
     "checksum": "0bfba331bdaa16e3e38c7f315efdff77",
     "grade": true,
     "grade_id": "cell-results",
     "locked": false,
     "points": 25,
     "schema_version": 3,
     "solution": true,
     "task": false
    }
   },
   "outputs": [],
   "source": [
    "# 3. Results (grader use only)\n"
   ]
  },
  {
   "cell_type": "code",
   "execution_count": null,
   "metadata": {
    "collapsed": false,
    "deletable": false,
    "nbgrader": {
     "cell_type": "code",
     "checksum": "f39a7cf08454b2b3946e33e39f851429",
     "grade": true,
     "grade_id": "cell-readability",
     "locked": false,
     "points": 30,
     "schema_version": 3,
     "solution": true,
     "task": false
    }
   },
   "outputs": [],
   "source": [
    "# 4. Readability (grader use only)\n"
   ]
  },
  {
   "cell_type": "code",
   "execution_count": null,
   "metadata": {
    "collapsed": false,
    "deletable": false,
    "nbgrader": {
     "cell_type": "code",
     "checksum": "5f88731ac323e35ec9219653b4ac085b",
     "grade": true,
     "grade_id": "cell-plots",
     "locked": false,
     "points": 15,
     "schema_version": 3,
     "solution": true,
     "task": false
    }
   },
   "outputs": [],
   "source": [
    "# 5. Plot (grader use only)\n"
   ]
  },
  {
   "cell_type": "code",
   "execution_count": null,
   "metadata": {
    "collapsed": false,
    "deletable": false,
    "editable": false,
    "nbgrader": {
     "grade": true,
     "grade_id": "cell-optimization0",
     "locked": true,
     "points": 0,
     "schema_version": 3,
     "solution": false,
     "task": false
    }
   },
   "outputs": [],
   "source": [
    "# Check execution time\n",
    "nb_name = \"project05.ipynb\"\n",
    "cells_to_time = []\n",
    "stop_at = ['cell-extension']\n",
    "%run - i time_cells2.py\n"
   ]
  },
  {
   "cell_type": "code",
   "execution_count": null,
   "metadata": {
    "collapsed": false,
    "deletable": false,
    "nbgrader": {
     "cell_type": "code",
     "checksum": "a8a3076187fd64d1224573d70288d2a0",
     "grade": true,
     "grade_id": "cell-optimization1",
     "locked": false,
     "points": 5,
     "schema_version": 3,
     "solution": true,
     "task": false
    }
   },
   "outputs": [],
   "source": [
    "# 5. Code optimization/timing (grader use only)\n"
   ]
  },
  {
   "cell_type": "code",
   "execution_count": null,
   "metadata": {
    "collapsed": false,
    "deletable": false,
    "nbgrader": {
     "cell_type": "code",
     "checksum": "f3bfbc592099991ad62d237a378affe1",
     "grade": true,
     "grade_id": "cell-new_features",
     "locked": false,
     "points": 2,
     "schema_version": 3,
     "solution": true,
     "task": false
    }
   },
   "outputs": [],
   "source": [
    "# B2. New Functionality/Language features (grader use only)\n"
   ]
  }
 ],
 "metadata": {
  "celltoolbar": "Create Assignment",
  "kernelspec": {
   "display_name": "Python 3.9.6 64-bit",
   "language": "python",
   "name": "python3"
  },
  "language_info": {
   "codemirror_mode": {
    "name": "ipython",
    "version": 3
   },
   "file_extension": ".py",
   "mimetype": "text/x-python",
   "name": "python",
   "nbconvert_exporter": "python",
   "pygments_lexer": "ipython3",
   "version": "3.9.12"
  },
  "nbgrader": {
   "__altered": false,
   "__hash": -1067242779,
   "_root": {
    "entries": [
     [
      "__altered",
      false
     ],
     [
      "__hash",
      661726806
     ],
     [
      "_root",
      {
       "entries": [
        [
         "__altered",
         false
        ],
        [
         "__hash",
         -203116787
        ],
        [
         "_root",
         {
          "entries": [
           [
            "size",
            5
           ],
           [
            "_root",
            {
             "entries": [
              [
               "__altered",
               false
              ],
              [
               "__hash",
               -404592343
              ],
              [
               "_root",
               {
                "entries": [
                 [
                  "__altered",
                  false
                 ],
                 [
                  "__hash",
                  -679907196
                 ],
                 [
                  "_root",
                  {
                   "entries": [
                    [
                     "__altered",
                     false
                    ],
                    [
                     "__hash",
                     -651869538
                    ],
                    [
                     "_root",
                     {
                      "entries": [
                       [
                        "size",
                        6
                       ],
                       [
                        "_root",
                        {
                         "entries": [
                          [
                           "size",
                           5
                          ],
                          [
                           "_root",
                           {
                            "entries": [
                             [
                              "__altered",
                              false
                             ],
                             [
                              "__hash",
                              -1072767477
                             ],
                             [
                              "_root",
                              {
                               "entries": [
                                [
                                 "size",
                                 6
                                ],
                                [
                                 "_root",
                                 {
                                  "entries": [
                                   [
                                    "size",
                                    1
                                   ],
                                   [
                                    "_root",
                                    {
                                     "entries": [
                                      [
                                       "cocalc_minimal_stubs",
                                       false
                                      ]
                                     ],
                                     "ownerID": {}
                                    }
                                   ],
                                   [
                                    "__ownerID",
                                    null
                                   ],
                                   [
                                    "__hash",
                                    -335098374
                                   ],
                                   [
                                    "__altered",
                                    false
                                   ],
                                   [
                                    "cocalc_minimal_stubs",
                                    false
                                   ]
                                  ],
                                  "ownerID": {}
                                 }
                                ],
                                [
                                 "__hash",
                                 -1062824929
                                ],
                                [
                                 "__altered",
                                 false
                                ],
                                [
                                 "cocalc_minimal_stubs",
                                 false
                                ]
                               ],
                               "ownerID": {}
                              }
                             ],
                             [
                              "cocalc_minimal_stubs",
                              false
                             ],
                             [
                              "size",
                              5
                             ]
                            ],
                            "ownerID": {}
                           }
                          ],
                          [
                           "__ownerID",
                           null
                          ],
                          [
                           "__hash",
                           250283375
                          ],
                          [
                           "__altered",
                           false
                          ],
                          [
                           "cocalc_minimal_stubs",
                           false
                          ]
                         ],
                         "ownerID": {}
                        }
                       ],
                       [
                        "__ownerID",
                        null
                       ],
                       [
                        "__hash",
                        -24045107
                       ],
                       [
                        "__altered",
                        false
                       ],
                       [
                        "cocalc_minimal_stubs",
                        false
                       ]
                      ],
                      "ownerID": {}
                     }
                    ],
                    [
                     "cocalc_minimal_stubs",
                     false
                    ],
                    [
                     "size",
                     6
                    ]
                   ],
                   "ownerID": {}
                  }
                 ],
                 [
                  "cocalc_minimal_stubs",
                  false
                 ],
                 [
                  "size",
                  5
                 ]
                ],
                "ownerID": {}
               }
              ],
              [
               "cocalc_minimal_stubs",
               false
              ],
              [
               "size",
               5
              ]
             ],
             "ownerID": {}
            }
           ],
           [
            "__hash",
            57563853
           ],
           [
            "__altered",
            false
           ],
           [
            "cocalc_minimal_stubs",
            false
           ]
          ],
          "ownerID": {}
         }
        ],
        [
         "cocalc_minimal_stubs",
         false
        ],
        [
         "size",
         5
        ]
       ],
       "ownerID": {}
      }
     ],
     [
      "cocalc_minimal_stubs",
      false
     ],
     [
      "size",
      5
     ]
    ],
    "ownerID": {}
   },
   "cocalc_minimal_stubs": false,
   "size": 5
  },
  "vscode": {
   "interpreter": {
    "hash": "aee8b7b246df8f9039afb4144a1f6fd8d2ca17a180786b69acc140d282b71a49"
   }
  }
 },
 "nbformat": 4,
 "nbformat_minor": 4
}
